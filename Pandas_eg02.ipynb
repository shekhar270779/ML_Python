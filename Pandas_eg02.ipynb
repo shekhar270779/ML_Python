{
 "cells": [
  {
   "cell_type": "code",
   "execution_count": 1,
   "metadata": {},
   "outputs": [],
   "source": [
    "import numpy as np"
   ]
  },
  {
   "cell_type": "code",
   "execution_count": 2,
   "metadata": {},
   "outputs": [],
   "source": [
    "import pandas as pd"
   ]
  },
  {
   "cell_type": "code",
   "execution_count": 5,
   "metadata": {},
   "outputs": [
    {
     "data": {
      "text/html": [
       "<div>\n",
       "<style scoped>\n",
       "    .dataframe tbody tr th:only-of-type {\n",
       "        vertical-align: middle;\n",
       "    }\n",
       "\n",
       "    .dataframe tbody tr th {\n",
       "        vertical-align: top;\n",
       "    }\n",
       "\n",
       "    .dataframe thead th {\n",
       "        text-align: right;\n",
       "    }\n",
       "</style>\n",
       "<table border=\"1\" class=\"dataframe\">\n",
       "  <thead>\n",
       "    <tr style=\"text-align: right;\">\n",
       "      <th></th>\n",
       "      <th>state</th>\n",
       "      <th>year</th>\n",
       "      <th>pop</th>\n",
       "    </tr>\n",
       "  </thead>\n",
       "  <tbody>\n",
       "    <tr>\n",
       "      <th>0</th>\n",
       "      <td>Ohio</td>\n",
       "      <td>2000</td>\n",
       "      <td>1.5</td>\n",
       "    </tr>\n",
       "    <tr>\n",
       "      <th>1</th>\n",
       "      <td>Ohio</td>\n",
       "      <td>2001</td>\n",
       "      <td>1.7</td>\n",
       "    </tr>\n",
       "    <tr>\n",
       "      <th>2</th>\n",
       "      <td>Ohio</td>\n",
       "      <td>2002</td>\n",
       "      <td>3.6</td>\n",
       "    </tr>\n",
       "    <tr>\n",
       "      <th>3</th>\n",
       "      <td>Nevada</td>\n",
       "      <td>2001</td>\n",
       "      <td>2.4</td>\n",
       "    </tr>\n",
       "    <tr>\n",
       "      <th>4</th>\n",
       "      <td>Nevada</td>\n",
       "      <td>2002</td>\n",
       "      <td>2.9</td>\n",
       "    </tr>\n",
       "    <tr>\n",
       "      <th>5</th>\n",
       "      <td>Nevada</td>\n",
       "      <td>2003</td>\n",
       "      <td>3.2</td>\n",
       "    </tr>\n",
       "  </tbody>\n",
       "</table>\n",
       "</div>"
      ],
      "text/plain": [
       "    state  year  pop\n",
       "0    Ohio  2000  1.5\n",
       "1    Ohio  2001  1.7\n",
       "2    Ohio  2002  3.6\n",
       "3  Nevada  2001  2.4\n",
       "4  Nevada  2002  2.9\n",
       "5  Nevada  2003  3.2"
      ]
     },
     "execution_count": 5,
     "metadata": {},
     "output_type": "execute_result"
    }
   ],
   "source": [
    "df = pd.DataFrame({'state': ['Ohio', 'Ohio', 'Ohio', 'Nevada', 'Nevada', 'Nevada'],\n",
    "'year': [2000, 2001, 2002, 2001, 2002, 2003],\n",
    "'pop': [1.5, 1.7, 3.6, 2.4, 2.9, 3.2]})\n",
    "df"
   ]
  },
  {
   "cell_type": "code",
   "execution_count": 6,
   "metadata": {},
   "outputs": [],
   "source": [
    "nba = pd.read_csv('nba.csv')"
   ]
  },
  {
   "cell_type": "code",
   "execution_count": 7,
   "metadata": {},
   "outputs": [
    {
     "data": {
      "text/plain": [
       "(458, 9)"
      ]
     },
     "execution_count": 7,
     "metadata": {},
     "output_type": "execute_result"
    }
   ],
   "source": [
    "nba.shape"
   ]
  },
  {
   "cell_type": "code",
   "execution_count": 8,
   "metadata": {},
   "outputs": [
    {
     "data": {
      "text/html": [
       "<div>\n",
       "<style scoped>\n",
       "    .dataframe tbody tr th:only-of-type {\n",
       "        vertical-align: middle;\n",
       "    }\n",
       "\n",
       "    .dataframe tbody tr th {\n",
       "        vertical-align: top;\n",
       "    }\n",
       "\n",
       "    .dataframe thead th {\n",
       "        text-align: right;\n",
       "    }\n",
       "</style>\n",
       "<table border=\"1\" class=\"dataframe\">\n",
       "  <thead>\n",
       "    <tr style=\"text-align: right;\">\n",
       "      <th></th>\n",
       "      <th>Name</th>\n",
       "      <th>Team</th>\n",
       "      <th>Number</th>\n",
       "      <th>Position</th>\n",
       "      <th>Age</th>\n",
       "      <th>Height</th>\n",
       "      <th>Weight</th>\n",
       "      <th>College</th>\n",
       "      <th>Salary</th>\n",
       "    </tr>\n",
       "  </thead>\n",
       "  <tbody>\n",
       "    <tr>\n",
       "      <th>0</th>\n",
       "      <td>Avery Bradley</td>\n",
       "      <td>Boston Celtics</td>\n",
       "      <td>0.0</td>\n",
       "      <td>PG</td>\n",
       "      <td>25.0</td>\n",
       "      <td>6-2</td>\n",
       "      <td>180.0</td>\n",
       "      <td>Texas</td>\n",
       "      <td>7730337.0</td>\n",
       "    </tr>\n",
       "    <tr>\n",
       "      <th>1</th>\n",
       "      <td>Jae Crowder</td>\n",
       "      <td>Boston Celtics</td>\n",
       "      <td>99.0</td>\n",
       "      <td>SF</td>\n",
       "      <td>25.0</td>\n",
       "      <td>6-6</td>\n",
       "      <td>235.0</td>\n",
       "      <td>Marquette</td>\n",
       "      <td>6796117.0</td>\n",
       "    </tr>\n",
       "    <tr>\n",
       "      <th>2</th>\n",
       "      <td>John Holland</td>\n",
       "      <td>Boston Celtics</td>\n",
       "      <td>30.0</td>\n",
       "      <td>SG</td>\n",
       "      <td>27.0</td>\n",
       "      <td>6-5</td>\n",
       "      <td>205.0</td>\n",
       "      <td>Boston University</td>\n",
       "      <td>NaN</td>\n",
       "    </tr>\n",
       "  </tbody>\n",
       "</table>\n",
       "</div>"
      ],
      "text/plain": [
       "            Name            Team  Number Position   Age Height  Weight  \\\n",
       "0  Avery Bradley  Boston Celtics     0.0       PG  25.0    6-2   180.0   \n",
       "1    Jae Crowder  Boston Celtics    99.0       SF  25.0    6-6   235.0   \n",
       "2   John Holland  Boston Celtics    30.0       SG  27.0    6-5   205.0   \n",
       "\n",
       "             College     Salary  \n",
       "0              Texas  7730337.0  \n",
       "1          Marquette  6796117.0  \n",
       "2  Boston University        NaN  "
      ]
     },
     "execution_count": 8,
     "metadata": {},
     "output_type": "execute_result"
    }
   ],
   "source": [
    "nba.head(3)"
   ]
  },
  {
   "cell_type": "code",
   "execution_count": 9,
   "metadata": {},
   "outputs": [
    {
     "data": {
      "text/plain": [
       "Name         object\n",
       "Team         object\n",
       "Number      float64\n",
       "Position     object\n",
       "Age         float64\n",
       "Height       object\n",
       "Weight      float64\n",
       "College      object\n",
       "Salary      float64\n",
       "dtype: object"
      ]
     },
     "execution_count": 9,
     "metadata": {},
     "output_type": "execute_result"
    }
   ],
   "source": [
    "nba.dtypes"
   ]
  },
  {
   "cell_type": "code",
   "execution_count": 10,
   "metadata": {},
   "outputs": [
    {
     "data": {
      "text/plain": [
       "2"
      ]
     },
     "execution_count": 10,
     "metadata": {},
     "output_type": "execute_result"
    }
   ],
   "source": [
    "nba.ndim"
   ]
  },
  {
   "cell_type": "code",
   "execution_count": 11,
   "metadata": {},
   "outputs": [
    {
     "data": {
      "text/html": [
       "<div>\n",
       "<style scoped>\n",
       "    .dataframe tbody tr th:only-of-type {\n",
       "        vertical-align: middle;\n",
       "    }\n",
       "\n",
       "    .dataframe tbody tr th {\n",
       "        vertical-align: top;\n",
       "    }\n",
       "\n",
       "    .dataframe thead th {\n",
       "        text-align: right;\n",
       "    }\n",
       "</style>\n",
       "<table border=\"1\" class=\"dataframe\">\n",
       "  <thead>\n",
       "    <tr style=\"text-align: right;\">\n",
       "      <th></th>\n",
       "      <th>Team</th>\n",
       "      <th>Number</th>\n",
       "      <th>Position</th>\n",
       "      <th>Age</th>\n",
       "      <th>Height</th>\n",
       "      <th>Weight</th>\n",
       "      <th>College</th>\n",
       "      <th>Salary</th>\n",
       "    </tr>\n",
       "    <tr>\n",
       "      <th>Name</th>\n",
       "      <th></th>\n",
       "      <th></th>\n",
       "      <th></th>\n",
       "      <th></th>\n",
       "      <th></th>\n",
       "      <th></th>\n",
       "      <th></th>\n",
       "      <th></th>\n",
       "    </tr>\n",
       "  </thead>\n",
       "  <tbody>\n",
       "    <tr>\n",
       "      <th>Avery Bradley</th>\n",
       "      <td>Boston Celtics</td>\n",
       "      <td>0.0</td>\n",
       "      <td>PG</td>\n",
       "      <td>25.0</td>\n",
       "      <td>6-2</td>\n",
       "      <td>180.0</td>\n",
       "      <td>Texas</td>\n",
       "      <td>7730337.0</td>\n",
       "    </tr>\n",
       "    <tr>\n",
       "      <th>Jae Crowder</th>\n",
       "      <td>Boston Celtics</td>\n",
       "      <td>99.0</td>\n",
       "      <td>SF</td>\n",
       "      <td>25.0</td>\n",
       "      <td>6-6</td>\n",
       "      <td>235.0</td>\n",
       "      <td>Marquette</td>\n",
       "      <td>6796117.0</td>\n",
       "    </tr>\n",
       "    <tr>\n",
       "      <th>John Holland</th>\n",
       "      <td>Boston Celtics</td>\n",
       "      <td>30.0</td>\n",
       "      <td>SG</td>\n",
       "      <td>27.0</td>\n",
       "      <td>6-5</td>\n",
       "      <td>205.0</td>\n",
       "      <td>Boston University</td>\n",
       "      <td>NaN</td>\n",
       "    </tr>\n",
       "    <tr>\n",
       "      <th>R.J. Hunter</th>\n",
       "      <td>Boston Celtics</td>\n",
       "      <td>28.0</td>\n",
       "      <td>SG</td>\n",
       "      <td>22.0</td>\n",
       "      <td>6-5</td>\n",
       "      <td>185.0</td>\n",
       "      <td>Georgia State</td>\n",
       "      <td>1148640.0</td>\n",
       "    </tr>\n",
       "    <tr>\n",
       "      <th>Jonas Jerebko</th>\n",
       "      <td>Boston Celtics</td>\n",
       "      <td>8.0</td>\n",
       "      <td>PF</td>\n",
       "      <td>29.0</td>\n",
       "      <td>6-10</td>\n",
       "      <td>231.0</td>\n",
       "      <td>NaN</td>\n",
       "      <td>5000000.0</td>\n",
       "    </tr>\n",
       "  </tbody>\n",
       "</table>\n",
       "</div>"
      ],
      "text/plain": [
       "                         Team  Number Position   Age Height  Weight  \\\n",
       "Name                                                                  \n",
       "Avery Bradley  Boston Celtics     0.0       PG  25.0    6-2   180.0   \n",
       "Jae Crowder    Boston Celtics    99.0       SF  25.0    6-6   235.0   \n",
       "John Holland   Boston Celtics    30.0       SG  27.0    6-5   205.0   \n",
       "R.J. Hunter    Boston Celtics    28.0       SG  22.0    6-5   185.0   \n",
       "Jonas Jerebko  Boston Celtics     8.0       PF  29.0   6-10   231.0   \n",
       "\n",
       "                         College     Salary  \n",
       "Name                                         \n",
       "Avery Bradley              Texas  7730337.0  \n",
       "Jae Crowder            Marquette  6796117.0  \n",
       "John Holland   Boston University        NaN  \n",
       "R.J. Hunter        Georgia State  1148640.0  \n",
       "Jonas Jerebko                NaN  5000000.0  "
      ]
     },
     "execution_count": 11,
     "metadata": {},
     "output_type": "execute_result"
    }
   ],
   "source": [
    "nba = pd.read_csv('nba.csv', index_col='Name')\n",
    "nba.head()"
   ]
  },
  {
   "cell_type": "code",
   "execution_count": 13,
   "metadata": {},
   "outputs": [
    {
     "data": {
      "text/plain": [
       "Index(['Team', 'Number', 'Position', 'Age', 'Height', 'Weight', 'College',\n",
       "       'Salary'],\n",
       "      dtype='object')"
      ]
     },
     "execution_count": 13,
     "metadata": {},
     "output_type": "execute_result"
    }
   ],
   "source": [
    "nba.columns"
   ]
  },
  {
   "cell_type": "code",
   "execution_count": 15,
   "metadata": {},
   "outputs": [
    {
     "data": {
      "text/plain": [
       "Index([ 'Avery Bradley',    'Jae Crowder',   'John Holland',    'R.J. Hunter',\n",
       "        'Jonas Jerebko',   'Amir Johnson',  'Jordan Mickey',   'Kelly Olynyk',\n",
       "         'Terry Rozier',   'Marcus Smart',\n",
       "       ...\n",
       "       'Gordon Hayward',    'Rodney Hood',     'Joe Ingles',  'Chris Johnson',\n",
       "           'Trey Lyles',   'Shelvin Mack',      'Raul Neto',   'Tibor Pleiss',\n",
       "          'Jeff Withey',              nan],\n",
       "      dtype='object', name='Name', length=458)"
      ]
     },
     "execution_count": 15,
     "metadata": {},
     "output_type": "execute_result"
    }
   ],
   "source": [
    "nba.index"
   ]
  },
  {
   "cell_type": "code",
   "execution_count": 16,
   "metadata": {},
   "outputs": [
    {
     "name": "stdout",
     "output_type": "stream",
     "text": [
      "<class 'pandas.core.frame.DataFrame'>\n",
      "Index: 458 entries, Avery Bradley to nan\n",
      "Data columns (total 8 columns):\n",
      " #   Column    Non-Null Count  Dtype  \n",
      "---  ------    --------------  -----  \n",
      " 0   Team      457 non-null    object \n",
      " 1   Number    457 non-null    float64\n",
      " 2   Position  457 non-null    object \n",
      " 3   Age       457 non-null    float64\n",
      " 4   Height    457 non-null    object \n",
      " 5   Weight    457 non-null    float64\n",
      " 6   College   373 non-null    object \n",
      " 7   Salary    446 non-null    float64\n",
      "dtypes: float64(4), object(4)\n",
      "memory usage: 32.2+ KB\n"
     ]
    }
   ],
   "source": [
    "nba.info()"
   ]
  },
  {
   "cell_type": "code",
   "execution_count": 17,
   "metadata": {},
   "outputs": [
    {
     "data": {
      "text/plain": [
       "Name\n",
       "Avery Bradley    25.0\n",
       "Jae Crowder      25.0\n",
       "John Holland     27.0\n",
       "R.J. Hunter      22.0\n",
       "Jonas Jerebko    29.0\n",
       "Name: Age, dtype: float64"
      ]
     },
     "execution_count": 17,
     "metadata": {},
     "output_type": "execute_result"
    }
   ],
   "source": [
    "nba['Age'].head()"
   ]
  },
  {
   "cell_type": "code",
   "execution_count": 18,
   "metadata": {},
   "outputs": [
    {
     "data": {
      "text/html": [
       "<div>\n",
       "<style scoped>\n",
       "    .dataframe tbody tr th:only-of-type {\n",
       "        vertical-align: middle;\n",
       "    }\n",
       "\n",
       "    .dataframe tbody tr th {\n",
       "        vertical-align: top;\n",
       "    }\n",
       "\n",
       "    .dataframe thead th {\n",
       "        text-align: right;\n",
       "    }\n",
       "</style>\n",
       "<table border=\"1\" class=\"dataframe\">\n",
       "  <thead>\n",
       "    <tr style=\"text-align: right;\">\n",
       "      <th></th>\n",
       "      <th>Age</th>\n",
       "      <th>Height</th>\n",
       "      <th>Weight</th>\n",
       "    </tr>\n",
       "    <tr>\n",
       "      <th>Name</th>\n",
       "      <th></th>\n",
       "      <th></th>\n",
       "      <th></th>\n",
       "    </tr>\n",
       "  </thead>\n",
       "  <tbody>\n",
       "    <tr>\n",
       "      <th>Avery Bradley</th>\n",
       "      <td>25.0</td>\n",
       "      <td>6-2</td>\n",
       "      <td>180.0</td>\n",
       "    </tr>\n",
       "    <tr>\n",
       "      <th>Jae Crowder</th>\n",
       "      <td>25.0</td>\n",
       "      <td>6-6</td>\n",
       "      <td>235.0</td>\n",
       "    </tr>\n",
       "    <tr>\n",
       "      <th>John Holland</th>\n",
       "      <td>27.0</td>\n",
       "      <td>6-5</td>\n",
       "      <td>205.0</td>\n",
       "    </tr>\n",
       "    <tr>\n",
       "      <th>R.J. Hunter</th>\n",
       "      <td>22.0</td>\n",
       "      <td>6-5</td>\n",
       "      <td>185.0</td>\n",
       "    </tr>\n",
       "    <tr>\n",
       "      <th>Jonas Jerebko</th>\n",
       "      <td>29.0</td>\n",
       "      <td>6-10</td>\n",
       "      <td>231.0</td>\n",
       "    </tr>\n",
       "  </tbody>\n",
       "</table>\n",
       "</div>"
      ],
      "text/plain": [
       "                Age Height  Weight\n",
       "Name                              \n",
       "Avery Bradley  25.0    6-2   180.0\n",
       "Jae Crowder    25.0    6-6   235.0\n",
       "John Holland   27.0    6-5   205.0\n",
       "R.J. Hunter    22.0    6-5   185.0\n",
       "Jonas Jerebko  29.0   6-10   231.0"
      ]
     },
     "execution_count": 18,
     "metadata": {},
     "output_type": "execute_result"
    }
   ],
   "source": [
    "nba[['Age', 'Height', 'Weight']].head()"
   ]
  },
  {
   "cell_type": "code",
   "execution_count": 21,
   "metadata": {},
   "outputs": [
    {
     "data": {
      "text/html": [
       "<div>\n",
       "<style scoped>\n",
       "    .dataframe tbody tr th:only-of-type {\n",
       "        vertical-align: middle;\n",
       "    }\n",
       "\n",
       "    .dataframe tbody tr th {\n",
       "        vertical-align: top;\n",
       "    }\n",
       "\n",
       "    .dataframe thead th {\n",
       "        text-align: right;\n",
       "    }\n",
       "</style>\n",
       "<table border=\"1\" class=\"dataframe\">\n",
       "  <thead>\n",
       "    <tr style=\"text-align: right;\">\n",
       "      <th></th>\n",
       "      <th>Team</th>\n",
       "      <th>Number</th>\n",
       "      <th>Position</th>\n",
       "      <th>Age</th>\n",
       "      <th>Height</th>\n",
       "      <th>Weight</th>\n",
       "      <th>College</th>\n",
       "      <th>Salary</th>\n",
       "    </tr>\n",
       "    <tr>\n",
       "      <th>Name</th>\n",
       "      <th></th>\n",
       "      <th></th>\n",
       "      <th></th>\n",
       "      <th></th>\n",
       "      <th></th>\n",
       "      <th></th>\n",
       "      <th></th>\n",
       "      <th></th>\n",
       "    </tr>\n",
       "  </thead>\n",
       "  <tbody>\n",
       "    <tr>\n",
       "      <th>Avery Bradley</th>\n",
       "      <td>Boston Celtics</td>\n",
       "      <td>0.0</td>\n",
       "      <td>PG</td>\n",
       "      <td>25.0</td>\n",
       "      <td>6-2</td>\n",
       "      <td>180.0</td>\n",
       "      <td>Texas</td>\n",
       "      <td>7730337.0</td>\n",
       "    </tr>\n",
       "  </tbody>\n",
       "</table>\n",
       "</div>"
      ],
      "text/plain": [
       "                         Team  Number Position   Age Height  Weight College  \\\n",
       "Name                                                                          \n",
       "Avery Bradley  Boston Celtics     0.0       PG  25.0    6-2   180.0   Texas   \n",
       "\n",
       "                  Salary  \n",
       "Name                      \n",
       "Avery Bradley  7730337.0  "
      ]
     },
     "execution_count": 21,
     "metadata": {},
     "output_type": "execute_result"
    }
   ],
   "source": [
    "nba.loc[['Avery Bradley']]"
   ]
  },
  {
   "cell_type": "code",
   "execution_count": 23,
   "metadata": {},
   "outputs": [
    {
     "data": {
      "text/html": [
       "<div>\n",
       "<style scoped>\n",
       "    .dataframe tbody tr th:only-of-type {\n",
       "        vertical-align: middle;\n",
       "    }\n",
       "\n",
       "    .dataframe tbody tr th {\n",
       "        vertical-align: top;\n",
       "    }\n",
       "\n",
       "    .dataframe thead th {\n",
       "        text-align: right;\n",
       "    }\n",
       "</style>\n",
       "<table border=\"1\" class=\"dataframe\">\n",
       "  <thead>\n",
       "    <tr style=\"text-align: right;\">\n",
       "      <th></th>\n",
       "      <th>Team</th>\n",
       "      <th>Position</th>\n",
       "    </tr>\n",
       "    <tr>\n",
       "      <th>Name</th>\n",
       "      <th></th>\n",
       "      <th></th>\n",
       "    </tr>\n",
       "  </thead>\n",
       "  <tbody>\n",
       "    <tr>\n",
       "      <th>Avery Bradley</th>\n",
       "      <td>Boston Celtics</td>\n",
       "      <td>PG</td>\n",
       "    </tr>\n",
       "    <tr>\n",
       "      <th>John Holland</th>\n",
       "      <td>Boston Celtics</td>\n",
       "      <td>SG</td>\n",
       "    </tr>\n",
       "  </tbody>\n",
       "</table>\n",
       "</div>"
      ],
      "text/plain": [
       "                         Team Position\n",
       "Name                                  \n",
       "Avery Bradley  Boston Celtics       PG\n",
       "John Holland   Boston Celtics       SG"
      ]
     },
     "execution_count": 23,
     "metadata": {},
     "output_type": "execute_result"
    }
   ],
   "source": [
    "nba.loc[['Avery Bradley', 'John Holland'], ['Team', 'Position']]"
   ]
  },
  {
   "cell_type": "code",
   "execution_count": 24,
   "metadata": {},
   "outputs": [
    {
     "data": {
      "text/html": [
       "<div>\n",
       "<style scoped>\n",
       "    .dataframe tbody tr th:only-of-type {\n",
       "        vertical-align: middle;\n",
       "    }\n",
       "\n",
       "    .dataframe tbody tr th {\n",
       "        vertical-align: top;\n",
       "    }\n",
       "\n",
       "    .dataframe thead th {\n",
       "        text-align: right;\n",
       "    }\n",
       "</style>\n",
       "<table border=\"1\" class=\"dataframe\">\n",
       "  <thead>\n",
       "    <tr style=\"text-align: right;\">\n",
       "      <th></th>\n",
       "      <th>Team</th>\n",
       "      <th>Number</th>\n",
       "      <th>Position</th>\n",
       "    </tr>\n",
       "    <tr>\n",
       "      <th>Name</th>\n",
       "      <th></th>\n",
       "      <th></th>\n",
       "      <th></th>\n",
       "    </tr>\n",
       "  </thead>\n",
       "  <tbody>\n",
       "    <tr>\n",
       "      <th>Avery Bradley</th>\n",
       "      <td>Boston Celtics</td>\n",
       "      <td>0.0</td>\n",
       "      <td>PG</td>\n",
       "    </tr>\n",
       "    <tr>\n",
       "      <th>Jae Crowder</th>\n",
       "      <td>Boston Celtics</td>\n",
       "      <td>99.0</td>\n",
       "      <td>SF</td>\n",
       "    </tr>\n",
       "    <tr>\n",
       "      <th>John Holland</th>\n",
       "      <td>Boston Celtics</td>\n",
       "      <td>30.0</td>\n",
       "      <td>SG</td>\n",
       "    </tr>\n",
       "  </tbody>\n",
       "</table>\n",
       "</div>"
      ],
      "text/plain": [
       "                         Team  Number Position\n",
       "Name                                          \n",
       "Avery Bradley  Boston Celtics     0.0       PG\n",
       "Jae Crowder    Boston Celtics    99.0       SF\n",
       "John Holland   Boston Celtics    30.0       SG"
      ]
     },
     "execution_count": 24,
     "metadata": {},
     "output_type": "execute_result"
    }
   ],
   "source": [
    "nba.iloc[0:3, 0:3]"
   ]
  },
  {
   "cell_type": "code",
   "execution_count": 27,
   "metadata": {},
   "outputs": [
    {
     "data": {
      "text/html": [
       "<div>\n",
       "<style scoped>\n",
       "    .dataframe tbody tr th:only-of-type {\n",
       "        vertical-align: middle;\n",
       "    }\n",
       "\n",
       "    .dataframe tbody tr th {\n",
       "        vertical-align: top;\n",
       "    }\n",
       "\n",
       "    .dataframe thead th {\n",
       "        text-align: right;\n",
       "    }\n",
       "</style>\n",
       "<table border=\"1\" class=\"dataframe\">\n",
       "  <thead>\n",
       "    <tr style=\"text-align: right;\">\n",
       "      <th></th>\n",
       "      <th>Team</th>\n",
       "      <th>Number</th>\n",
       "      <th>Position</th>\n",
       "      <th>Age</th>\n",
       "      <th>Height</th>\n",
       "      <th>Weight</th>\n",
       "      <th>College</th>\n",
       "      <th>Salary</th>\n",
       "    </tr>\n",
       "    <tr>\n",
       "      <th>Name</th>\n",
       "      <th></th>\n",
       "      <th></th>\n",
       "      <th></th>\n",
       "      <th></th>\n",
       "      <th></th>\n",
       "      <th></th>\n",
       "      <th></th>\n",
       "      <th></th>\n",
       "    </tr>\n",
       "  </thead>\n",
       "  <tbody>\n",
       "    <tr>\n",
       "      <th>Tim Duncan</th>\n",
       "      <td>San Antonio Spurs</td>\n",
       "      <td>21.0</td>\n",
       "      <td>C</td>\n",
       "      <td>40.0</td>\n",
       "      <td>6-11</td>\n",
       "      <td>250.0</td>\n",
       "      <td>Wake Forest</td>\n",
       "      <td>5250000.0</td>\n",
       "    </tr>\n",
       "    <tr>\n",
       "      <th>Andre Miller</th>\n",
       "      <td>San Antonio Spurs</td>\n",
       "      <td>24.0</td>\n",
       "      <td>PG</td>\n",
       "      <td>40.0</td>\n",
       "      <td>6-3</td>\n",
       "      <td>200.0</td>\n",
       "      <td>Utah</td>\n",
       "      <td>250750.0</td>\n",
       "    </tr>\n",
       "    <tr>\n",
       "      <th>Kevin Garnett</th>\n",
       "      <td>Minnesota Timberwolves</td>\n",
       "      <td>21.0</td>\n",
       "      <td>PF</td>\n",
       "      <td>40.0</td>\n",
       "      <td>6-11</td>\n",
       "      <td>240.0</td>\n",
       "      <td>NaN</td>\n",
       "      <td>8500000.0</td>\n",
       "    </tr>\n",
       "  </tbody>\n",
       "</table>\n",
       "</div>"
      ],
      "text/plain": [
       "                                 Team  Number Position   Age Height  Weight  \\\n",
       "Name                                                                          \n",
       "Tim Duncan          San Antonio Spurs    21.0        C  40.0   6-11   250.0   \n",
       "Andre Miller        San Antonio Spurs    24.0       PG  40.0    6-3   200.0   \n",
       "Kevin Garnett  Minnesota Timberwolves    21.0       PF  40.0   6-11   240.0   \n",
       "\n",
       "                   College     Salary  \n",
       "Name                                   \n",
       "Tim Duncan     Wake Forest  5250000.0  \n",
       "Andre Miller          Utah   250750.0  \n",
       "Kevin Garnett          NaN  8500000.0  "
      ]
     },
     "execution_count": 27,
     "metadata": {},
     "output_type": "execute_result"
    }
   ],
   "source": [
    " nba[nba['Age']  == nba['Age'].max()]"
   ]
  },
  {
   "cell_type": "code",
   "execution_count": 34,
   "metadata": {},
   "outputs": [
    {
     "data": {
      "text/html": [
       "<div>\n",
       "<style scoped>\n",
       "    .dataframe tbody tr th:only-of-type {\n",
       "        vertical-align: middle;\n",
       "    }\n",
       "\n",
       "    .dataframe tbody tr th {\n",
       "        vertical-align: top;\n",
       "    }\n",
       "\n",
       "    .dataframe thead th {\n",
       "        text-align: right;\n",
       "    }\n",
       "</style>\n",
       "<table border=\"1\" class=\"dataframe\">\n",
       "  <thead>\n",
       "    <tr style=\"text-align: right;\">\n",
       "      <th></th>\n",
       "      <th>Team</th>\n",
       "      <th>Number</th>\n",
       "      <th>Position</th>\n",
       "      <th>Age</th>\n",
       "      <th>Height</th>\n",
       "      <th>Weight</th>\n",
       "      <th>College</th>\n",
       "      <th>Salary</th>\n",
       "    </tr>\n",
       "    <tr>\n",
       "      <th>Name</th>\n",
       "      <th></th>\n",
       "      <th></th>\n",
       "      <th></th>\n",
       "      <th></th>\n",
       "      <th></th>\n",
       "      <th></th>\n",
       "      <th></th>\n",
       "      <th></th>\n",
       "    </tr>\n",
       "  </thead>\n",
       "  <tbody>\n",
       "    <tr>\n",
       "      <th>Pau Gasol</th>\n",
       "      <td>Chicago Bulls</td>\n",
       "      <td>16.0</td>\n",
       "      <td>C</td>\n",
       "      <td>35.0</td>\n",
       "      <td>7-0</td>\n",
       "      <td>250.0</td>\n",
       "      <td>NaN</td>\n",
       "      <td>7448760.0</td>\n",
       "    </tr>\n",
       "    <tr>\n",
       "      <th>Matt Bonner</th>\n",
       "      <td>San Antonio Spurs</td>\n",
       "      <td>15.0</td>\n",
       "      <td>C</td>\n",
       "      <td>36.0</td>\n",
       "      <td>6-10</td>\n",
       "      <td>235.0</td>\n",
       "      <td>Florida</td>\n",
       "      <td>947276.0</td>\n",
       "    </tr>\n",
       "    <tr>\n",
       "      <th>Tim Duncan</th>\n",
       "      <td>San Antonio Spurs</td>\n",
       "      <td>21.0</td>\n",
       "      <td>C</td>\n",
       "      <td>40.0</td>\n",
       "      <td>6-11</td>\n",
       "      <td>250.0</td>\n",
       "      <td>Wake Forest</td>\n",
       "      <td>5250000.0</td>\n",
       "    </tr>\n",
       "    <tr>\n",
       "      <th>Nazr Mohammed</th>\n",
       "      <td>Oklahoma City Thunder</td>\n",
       "      <td>13.0</td>\n",
       "      <td>C</td>\n",
       "      <td>38.0</td>\n",
       "      <td>6-10</td>\n",
       "      <td>250.0</td>\n",
       "      <td>Kentucky</td>\n",
       "      <td>222888.0</td>\n",
       "    </tr>\n",
       "  </tbody>\n",
       "</table>\n",
       "</div>"
      ],
      "text/plain": [
       "                                Team  Number Position   Age Height  Weight  \\\n",
       "Name                                                                         \n",
       "Pau Gasol              Chicago Bulls    16.0        C  35.0    7-0   250.0   \n",
       "Matt Bonner        San Antonio Spurs    15.0        C  36.0   6-10   235.0   \n",
       "Tim Duncan         San Antonio Spurs    21.0        C  40.0   6-11   250.0   \n",
       "Nazr Mohammed  Oklahoma City Thunder    13.0        C  38.0   6-10   250.0   \n",
       "\n",
       "                   College     Salary  \n",
       "Name                                   \n",
       "Pau Gasol              NaN  7448760.0  \n",
       "Matt Bonner        Florida   947276.0  \n",
       "Tim Duncan     Wake Forest  5250000.0  \n",
       "Nazr Mohammed     Kentucky   222888.0  "
      ]
     },
     "execution_count": 34,
     "metadata": {},
     "output_type": "execute_result"
    }
   ],
   "source": [
    "cond1 = nba['Position'] == 'C'\n",
    "cond2 = nba['Age'] >=35\n",
    "nba.loc[ cond1 & cond2 ]"
   ]
  },
  {
   "cell_type": "code",
   "execution_count": 35,
   "metadata": {},
   "outputs": [
    {
     "data": {
      "text/html": [
       "<div>\n",
       "<style scoped>\n",
       "    .dataframe tbody tr th:only-of-type {\n",
       "        vertical-align: middle;\n",
       "    }\n",
       "\n",
       "    .dataframe tbody tr th {\n",
       "        vertical-align: top;\n",
       "    }\n",
       "\n",
       "    .dataframe thead th {\n",
       "        text-align: right;\n",
       "    }\n",
       "</style>\n",
       "<table border=\"1\" class=\"dataframe\">\n",
       "  <thead>\n",
       "    <tr style=\"text-align: right;\">\n",
       "      <th></th>\n",
       "      <th>Team</th>\n",
       "      <th>Number</th>\n",
       "      <th>Position</th>\n",
       "      <th>Age</th>\n",
       "      <th>Height</th>\n",
       "      <th>Weight</th>\n",
       "      <th>College</th>\n",
       "      <th>Salary</th>\n",
       "    </tr>\n",
       "    <tr>\n",
       "      <th>Name</th>\n",
       "      <th></th>\n",
       "      <th></th>\n",
       "      <th></th>\n",
       "      <th></th>\n",
       "      <th></th>\n",
       "      <th></th>\n",
       "      <th></th>\n",
       "      <th></th>\n",
       "    </tr>\n",
       "  </thead>\n",
       "  <tbody>\n",
       "    <tr>\n",
       "      <th>Marreese Speights</th>\n",
       "      <td>Golden State Warriors</td>\n",
       "      <td>5.0</td>\n",
       "      <td>C</td>\n",
       "      <td>28.0</td>\n",
       "      <td>6-10</td>\n",
       "      <td>255.0</td>\n",
       "      <td>Florida</td>\n",
       "      <td>3815000.0</td>\n",
       "    </tr>\n",
       "    <tr>\n",
       "      <th>DeMarcus Cousins</th>\n",
       "      <td>Sacramento Kings</td>\n",
       "      <td>15.0</td>\n",
       "      <td>C</td>\n",
       "      <td>25.0</td>\n",
       "      <td>6-11</td>\n",
       "      <td>270.0</td>\n",
       "      <td>Kentucky</td>\n",
       "      <td>15851950.0</td>\n",
       "    </tr>\n",
       "    <tr>\n",
       "      <th>Terrence Jones</th>\n",
       "      <td>Houston Rockets</td>\n",
       "      <td>6.0</td>\n",
       "      <td>PF</td>\n",
       "      <td>24.0</td>\n",
       "      <td>6-9</td>\n",
       "      <td>252.0</td>\n",
       "      <td>Kentucky</td>\n",
       "      <td>2489530.0</td>\n",
       "    </tr>\n",
       "    <tr>\n",
       "      <th>Anthony Davis</th>\n",
       "      <td>New Orleans Pelicans</td>\n",
       "      <td>23.0</td>\n",
       "      <td>PF</td>\n",
       "      <td>23.0</td>\n",
       "      <td>6-10</td>\n",
       "      <td>253.0</td>\n",
       "      <td>Kentucky</td>\n",
       "      <td>7070730.0</td>\n",
       "    </tr>\n",
       "  </tbody>\n",
       "</table>\n",
       "</div>"
      ],
      "text/plain": [
       "                                    Team  Number Position   Age Height  \\\n",
       "Name                                                                     \n",
       "Marreese Speights  Golden State Warriors     5.0        C  28.0   6-10   \n",
       "DeMarcus Cousins        Sacramento Kings    15.0        C  25.0   6-11   \n",
       "Terrence Jones           Houston Rockets     6.0       PF  24.0    6-9   \n",
       "Anthony Davis       New Orleans Pelicans    23.0       PF  23.0   6-10   \n",
       "\n",
       "                   Weight   College      Salary  \n",
       "Name                                             \n",
       "Marreese Speights   255.0   Florida   3815000.0  \n",
       "DeMarcus Cousins    270.0  Kentucky  15851950.0  \n",
       "Terrence Jones      252.0  Kentucky   2489530.0  \n",
       "Anthony Davis       253.0  Kentucky   7070730.0  "
      ]
     },
     "execution_count": 35,
     "metadata": {},
     "output_type": "execute_result"
    }
   ],
   "source": [
    "cond1 = nba['College'].isin(['Florida', 'Kentucky'])\n",
    "cond2 = nba['Weight'] > 250\n",
    "nba.loc[cond1 & cond2]"
   ]
  },
  {
   "cell_type": "code",
   "execution_count": 37,
   "metadata": {},
   "outputs": [
    {
     "data": {
      "text/plain": [
       "3826836.9"
      ]
     },
     "execution_count": 37,
     "metadata": {},
     "output_type": "execute_result"
    }
   ],
   "source": [
    "cond = nba['Age'] >=35\n",
    "nba.loc[cond, 'Salary'].mean()"
   ]
  },
  {
   "cell_type": "code",
   "execution_count": 39,
   "metadata": {},
   "outputs": [
    {
     "data": {
      "text/html": [
       "<div>\n",
       "<style scoped>\n",
       "    .dataframe tbody tr th:only-of-type {\n",
       "        vertical-align: middle;\n",
       "    }\n",
       "\n",
       "    .dataframe tbody tr th {\n",
       "        vertical-align: top;\n",
       "    }\n",
       "\n",
       "    .dataframe thead th {\n",
       "        text-align: right;\n",
       "    }\n",
       "</style>\n",
       "<table border=\"1\" class=\"dataframe\">\n",
       "  <thead>\n",
       "    <tr style=\"text-align: right;\">\n",
       "      <th></th>\n",
       "      <th>Team</th>\n",
       "      <th>Number</th>\n",
       "      <th>Position</th>\n",
       "      <th>Age</th>\n",
       "      <th>Height</th>\n",
       "      <th>Weight</th>\n",
       "      <th>College</th>\n",
       "      <th>Salary</th>\n",
       "    </tr>\n",
       "    <tr>\n",
       "      <th>Name</th>\n",
       "      <th></th>\n",
       "      <th></th>\n",
       "      <th></th>\n",
       "      <th></th>\n",
       "      <th></th>\n",
       "      <th></th>\n",
       "      <th></th>\n",
       "      <th></th>\n",
       "    </tr>\n",
       "  </thead>\n",
       "  <tbody>\n",
       "    <tr>\n",
       "      <th>Matt Bonner</th>\n",
       "      <td>San Antonio Spurs</td>\n",
       "      <td>15.0</td>\n",
       "      <td>C</td>\n",
       "      <td>36.0</td>\n",
       "      <td>6-10</td>\n",
       "      <td>235.0</td>\n",
       "      <td>Florida</td>\n",
       "      <td>947276.0</td>\n",
       "    </tr>\n",
       "    <tr>\n",
       "      <th>Tim Duncan</th>\n",
       "      <td>San Antonio Spurs</td>\n",
       "      <td>21.0</td>\n",
       "      <td>C</td>\n",
       "      <td>40.0</td>\n",
       "      <td>6-11</td>\n",
       "      <td>250.0</td>\n",
       "      <td>Wake Forest</td>\n",
       "      <td>5250000.0</td>\n",
       "    </tr>\n",
       "    <tr>\n",
       "      <th>Nazr Mohammed</th>\n",
       "      <td>Oklahoma City Thunder</td>\n",
       "      <td>13.0</td>\n",
       "      <td>C</td>\n",
       "      <td>38.0</td>\n",
       "      <td>6-10</td>\n",
       "      <td>250.0</td>\n",
       "      <td>Kentucky</td>\n",
       "      <td>222888.0</td>\n",
       "    </tr>\n",
       "  </tbody>\n",
       "</table>\n",
       "</div>"
      ],
      "text/plain": [
       "                                Team  Number Position   Age Height  Weight  \\\n",
       "Name                                                                         \n",
       "Matt Bonner        San Antonio Spurs    15.0        C  36.0   6-10   235.0   \n",
       "Tim Duncan         San Antonio Spurs    21.0        C  40.0   6-11   250.0   \n",
       "Nazr Mohammed  Oklahoma City Thunder    13.0        C  38.0   6-10   250.0   \n",
       "\n",
       "                   College     Salary  \n",
       "Name                                   \n",
       "Matt Bonner        Florida   947276.0  \n",
       "Tim Duncan     Wake Forest  5250000.0  \n",
       "Nazr Mohammed     Kentucky   222888.0  "
      ]
     },
     "execution_count": 39,
     "metadata": {},
     "output_type": "execute_result"
    }
   ],
   "source": [
    "nba.query(\"Age > 35 and Position=='C'\")"
   ]
  },
  {
   "cell_type": "code",
   "execution_count": 40,
   "metadata": {},
   "outputs": [],
   "source": [
    "g = nba.groupby('Team')"
   ]
  },
  {
   "cell_type": "code",
   "execution_count": 44,
   "metadata": {},
   "outputs": [
    {
     "name": "stdout",
     "output_type": "stream",
     "text": [
      "Atlanta Hawks : 4860196.666666667\n",
      "Boston Celtics : 4181504.8571428573\n",
      "Brooklyn Nets : 3501898.3333333335\n",
      "Charlotte Hornets : 5222728.0\n",
      "Chicago Bulls : 5785558.533333333\n",
      "Cleveland Cavaliers : 7642049.214285715\n",
      "Dallas Mavericks : 4746582.133333334\n",
      "Denver Nuggets : 4294423.571428572\n",
      "Detroit Pistons : 4477884.2\n",
      "Golden State Warriors : 5924599.8\n",
      "Houston Rockets : 5018868.066666666\n",
      "Indiana Pacers : 4450121.733333333\n",
      "Los Angeles Clippers : 6323642.666666667\n",
      "Los Angeles Lakers : 4784695.4\n",
      "Memphis Grizzlies : 5467920.0\n",
      "Miami Heat : 6347359.461538462\n",
      "Milwaukee Bucks : 4350219.8125\n",
      "Minnesota Timberwolves : 4593053.615384615\n",
      "New Orleans Pelicans : 4355303.894736842\n",
      "New York Knicks : 4581493.625\n",
      "Oklahoma City Thunder : 6251019.866666666\n",
      "Orlando Magic : 4297247.857142857\n",
      "Philadelphia 76ers : 2213778.1428571427\n",
      "Phoenix Suns : 4229675.666666667\n",
      "Portland Trail Blazers : 3220121.2\n",
      "Sacramento Kings : 4778911.066666666\n",
      "San Antonio Spurs : 5629515.533333333\n",
      "Toronto Raptors : 4741174.066666666\n",
      "Utah Jazz : 4204006.066666666\n",
      "Washington Wizards : 5088575.733333333\n"
     ]
    }
   ],
   "source": [
    "for t, df in g:\n",
    "    print(t, ':', df['Salary'].mean())\n",
    "    "
   ]
  },
  {
   "cell_type": "code",
   "execution_count": 45,
   "metadata": {},
   "outputs": [
    {
     "data": {
      "text/plain": [
       "Team\n",
       "Atlanta Hawks             4.860197e+06\n",
       "Boston Celtics            4.181505e+06\n",
       "Brooklyn Nets             3.501898e+06\n",
       "Charlotte Hornets         5.222728e+06\n",
       "Chicago Bulls             5.785559e+06\n",
       "Cleveland Cavaliers       7.642049e+06\n",
       "Dallas Mavericks          4.746582e+06\n",
       "Denver Nuggets            4.294424e+06\n",
       "Detroit Pistons           4.477884e+06\n",
       "Golden State Warriors     5.924600e+06\n",
       "Houston Rockets           5.018868e+06\n",
       "Indiana Pacers            4.450122e+06\n",
       "Los Angeles Clippers      6.323643e+06\n",
       "Los Angeles Lakers        4.784695e+06\n",
       "Memphis Grizzlies         5.467920e+06\n",
       "Miami Heat                6.347359e+06\n",
       "Milwaukee Bucks           4.350220e+06\n",
       "Minnesota Timberwolves    4.593054e+06\n",
       "New Orleans Pelicans      4.355304e+06\n",
       "New York Knicks           4.581494e+06\n",
       "Oklahoma City Thunder     6.251020e+06\n",
       "Orlando Magic             4.297248e+06\n",
       "Philadelphia 76ers        2.213778e+06\n",
       "Phoenix Suns              4.229676e+06\n",
       "Portland Trail Blazers    3.220121e+06\n",
       "Sacramento Kings          4.778911e+06\n",
       "San Antonio Spurs         5.629516e+06\n",
       "Toronto Raptors           4.741174e+06\n",
       "Utah Jazz                 4.204006e+06\n",
       "Washington Wizards        5.088576e+06\n",
       "Name: Salary, dtype: float64"
      ]
     },
     "execution_count": 45,
     "metadata": {},
     "output_type": "execute_result"
    }
   ],
   "source": [
    "nba.groupby(['Team'])['Salary'].mean()"
   ]
  },
  {
   "cell_type": "code",
   "execution_count": 46,
   "metadata": {},
   "outputs": [
    {
     "data": {
      "text/plain": [
       "Position\n",
       "C     5.967052e+06\n",
       "PF    4.562483e+06\n",
       "PG    5.077829e+06\n",
       "SF    4.857393e+06\n",
       "SG    4.009861e+06\n",
       "Name: Salary, dtype: float64"
      ]
     },
     "execution_count": 46,
     "metadata": {},
     "output_type": "execute_result"
    }
   ],
   "source": [
    "nba.groupby(['Position'])['Salary'].mean()"
   ]
  },
  {
   "cell_type": "code",
   "execution_count": 47,
   "metadata": {},
   "outputs": [],
   "source": [
    "# Use 3 decimal places in output display\n",
    "pd.set_option('display.precision', 3)\n",
    "\n",
    "# Don't wrap repr(DataFrame) across additional lines\n",
    "pd.set_option('display.expand_frame_repr', False)\n",
    "\n",
    "# Set max rows displayed in output to 25\n",
    "pd.set_option('display.max_rows', 25)\n"
   ]
  },
  {
   "cell_type": "markdown",
   "metadata": {},
   "source": [
    "<h3> Explore U.S. Congress Dataset </h3>"
   ]
  },
  {
   "cell_type": "code",
   "execution_count": 54,
   "metadata": {},
   "outputs": [],
   "source": [
    "dtypes = {\n",
    "    'first_name' : 'category',\n",
    "    'gender' : 'category',\n",
    "    'type' : 'category',\n",
    "    'state' : 'category',\n",
    "    'party': 'category'\n",
    "}\n",
    "\n",
    "df = pd.read_csv(r'./groupby-data/legislators-historical.csv', \n",
    "                 dtype=dtypes, \n",
    "                 usecols=list(dtypes) + ['birthday','last_name'],\n",
    "                parse_dates=['birthday'])\n"
   ]
  },
  {
   "cell_type": "code",
   "execution_count": 55,
   "metadata": {},
   "outputs": [
    {
     "data": {
      "text/plain": [
       "last_name             object\n",
       "first_name          category\n",
       "birthday      datetime64[ns]\n",
       "gender              category\n",
       "type                category\n",
       "state               category\n",
       "party               category\n",
       "dtype: object"
      ]
     },
     "execution_count": 55,
     "metadata": {},
     "output_type": "execute_result"
    }
   ],
   "source": [
    "df.dtypes"
   ]
  },
  {
   "cell_type": "code",
   "execution_count": 58,
   "metadata": {},
   "outputs": [
    {
     "data": {
      "text/plain": [
       "Index(['last_name', 'first_name', 'birthday', 'gender', 'type', 'state',\n",
       "       'party'],\n",
       "      dtype='object')"
      ]
     },
     "execution_count": 58,
     "metadata": {},
     "output_type": "execute_result"
    }
   ],
   "source": [
    "df.columns"
   ]
  },
  {
   "cell_type": "code",
   "execution_count": 59,
   "metadata": {},
   "outputs": [
    {
     "data": {
      "text/plain": [
       "RangeIndex(start=0, stop=11975, step=1)"
      ]
     },
     "execution_count": 59,
     "metadata": {},
     "output_type": "execute_result"
    }
   ],
   "source": [
    "df.index"
   ]
  },
  {
   "cell_type": "code",
   "execution_count": 60,
   "metadata": {},
   "outputs": [
    {
     "data": {
      "text/html": [
       "<div>\n",
       "<style scoped>\n",
       "    .dataframe tbody tr th:only-of-type {\n",
       "        vertical-align: middle;\n",
       "    }\n",
       "\n",
       "    .dataframe tbody tr th {\n",
       "        vertical-align: top;\n",
       "    }\n",
       "\n",
       "    .dataframe thead th {\n",
       "        text-align: right;\n",
       "    }\n",
       "</style>\n",
       "<table border=\"1\" class=\"dataframe\">\n",
       "  <thead>\n",
       "    <tr style=\"text-align: right;\">\n",
       "      <th></th>\n",
       "      <th>last_name</th>\n",
       "      <th>first_name</th>\n",
       "      <th>birthday</th>\n",
       "      <th>gender</th>\n",
       "      <th>type</th>\n",
       "      <th>state</th>\n",
       "      <th>party</th>\n",
       "    </tr>\n",
       "  </thead>\n",
       "  <tbody>\n",
       "    <tr>\n",
       "      <th>0</th>\n",
       "      <td>Bassett</td>\n",
       "      <td>Richard</td>\n",
       "      <td>1745-04-02</td>\n",
       "      <td>M</td>\n",
       "      <td>sen</td>\n",
       "      <td>DE</td>\n",
       "      <td>Anti-Administration</td>\n",
       "    </tr>\n",
       "    <tr>\n",
       "      <th>1</th>\n",
       "      <td>Bland</td>\n",
       "      <td>Theodorick</td>\n",
       "      <td>1742-03-21</td>\n",
       "      <td>M</td>\n",
       "      <td>rep</td>\n",
       "      <td>VA</td>\n",
       "      <td>NaN</td>\n",
       "    </tr>\n",
       "    <tr>\n",
       "      <th>2</th>\n",
       "      <td>Burke</td>\n",
       "      <td>Aedanus</td>\n",
       "      <td>1743-06-16</td>\n",
       "      <td>M</td>\n",
       "      <td>rep</td>\n",
       "      <td>SC</td>\n",
       "      <td>NaN</td>\n",
       "    </tr>\n",
       "    <tr>\n",
       "      <th>3</th>\n",
       "      <td>Carroll</td>\n",
       "      <td>Daniel</td>\n",
       "      <td>1730-07-22</td>\n",
       "      <td>M</td>\n",
       "      <td>rep</td>\n",
       "      <td>MD</td>\n",
       "      <td>NaN</td>\n",
       "    </tr>\n",
       "    <tr>\n",
       "      <th>4</th>\n",
       "      <td>Clymer</td>\n",
       "      <td>George</td>\n",
       "      <td>1739-03-16</td>\n",
       "      <td>M</td>\n",
       "      <td>rep</td>\n",
       "      <td>PA</td>\n",
       "      <td>NaN</td>\n",
       "    </tr>\n",
       "  </tbody>\n",
       "</table>\n",
       "</div>"
      ],
      "text/plain": [
       "  last_name  first_name   birthday gender type state                party\n",
       "0   Bassett     Richard 1745-04-02      M  sen    DE  Anti-Administration\n",
       "1     Bland  Theodorick 1742-03-21      M  rep    VA                  NaN\n",
       "2     Burke     Aedanus 1743-06-16      M  rep    SC                  NaN\n",
       "3   Carroll      Daniel 1730-07-22      M  rep    MD                  NaN\n",
       "4    Clymer      George 1739-03-16      M  rep    PA                  NaN"
      ]
     },
     "execution_count": 60,
     "metadata": {},
     "output_type": "execute_result"
    }
   ],
   "source": [
    "df.head(5)"
   ]
  },
  {
   "cell_type": "code",
   "execution_count": 61,
   "metadata": {},
   "outputs": [
    {
     "data": {
      "text/html": [
       "<div>\n",
       "<style scoped>\n",
       "    .dataframe tbody tr th:only-of-type {\n",
       "        vertical-align: middle;\n",
       "    }\n",
       "\n",
       "    .dataframe tbody tr th {\n",
       "        vertical-align: top;\n",
       "    }\n",
       "\n",
       "    .dataframe thead th {\n",
       "        text-align: right;\n",
       "    }\n",
       "</style>\n",
       "<table border=\"1\" class=\"dataframe\">\n",
       "  <thead>\n",
       "    <tr style=\"text-align: right;\">\n",
       "      <th></th>\n",
       "      <th>last_name</th>\n",
       "      <th>first_name</th>\n",
       "      <th>birthday</th>\n",
       "      <th>gender</th>\n",
       "      <th>type</th>\n",
       "      <th>state</th>\n",
       "      <th>party</th>\n",
       "    </tr>\n",
       "  </thead>\n",
       "  <tbody>\n",
       "    <tr>\n",
       "      <th>11970</th>\n",
       "      <td>Garrett</td>\n",
       "      <td>Thomas</td>\n",
       "      <td>1972-03-27</td>\n",
       "      <td>M</td>\n",
       "      <td>rep</td>\n",
       "      <td>VA</td>\n",
       "      <td>Republican</td>\n",
       "    </tr>\n",
       "    <tr>\n",
       "      <th>11971</th>\n",
       "      <td>Handel</td>\n",
       "      <td>Karen</td>\n",
       "      <td>1962-04-18</td>\n",
       "      <td>F</td>\n",
       "      <td>rep</td>\n",
       "      <td>GA</td>\n",
       "      <td>Republican</td>\n",
       "    </tr>\n",
       "    <tr>\n",
       "      <th>11972</th>\n",
       "      <td>Jones</td>\n",
       "      <td>Brenda</td>\n",
       "      <td>1959-10-24</td>\n",
       "      <td>F</td>\n",
       "      <td>rep</td>\n",
       "      <td>MI</td>\n",
       "      <td>Democrat</td>\n",
       "    </tr>\n",
       "    <tr>\n",
       "      <th>11973</th>\n",
       "      <td>Marino</td>\n",
       "      <td>Tom</td>\n",
       "      <td>1952-08-15</td>\n",
       "      <td>M</td>\n",
       "      <td>rep</td>\n",
       "      <td>PA</td>\n",
       "      <td>Republican</td>\n",
       "    </tr>\n",
       "    <tr>\n",
       "      <th>11974</th>\n",
       "      <td>Jones</td>\n",
       "      <td>Walter</td>\n",
       "      <td>1943-02-10</td>\n",
       "      <td>M</td>\n",
       "      <td>rep</td>\n",
       "      <td>NC</td>\n",
       "      <td>Republican</td>\n",
       "    </tr>\n",
       "  </tbody>\n",
       "</table>\n",
       "</div>"
      ],
      "text/plain": [
       "      last_name first_name   birthday gender type state       party\n",
       "11970   Garrett     Thomas 1972-03-27      M  rep    VA  Republican\n",
       "11971    Handel      Karen 1962-04-18      F  rep    GA  Republican\n",
       "11972     Jones     Brenda 1959-10-24      F  rep    MI    Democrat\n",
       "11973    Marino        Tom 1952-08-15      M  rep    PA  Republican\n",
       "11974     Jones     Walter 1943-02-10      M  rep    NC  Republican"
      ]
     },
     "execution_count": 61,
     "metadata": {},
     "output_type": "execute_result"
    }
   ],
   "source": [
    "df.tail(5)"
   ]
  },
  {
   "cell_type": "code",
   "execution_count": 64,
   "metadata": {},
   "outputs": [
    {
     "data": {
      "text/plain": [
       "state\n",
       "AK     16\n",
       "AL    206\n",
       "AR    117\n",
       "AS      2\n",
       "AZ     48\n",
       "     ... \n",
       "VT    115\n",
       "WA     95\n",
       "WI    196\n",
       "WV    120\n",
       "WY     40\n",
       "Name: last_name, Length: 58, dtype: int64"
      ]
     },
     "execution_count": 64,
     "metadata": {},
     "output_type": "execute_result"
    }
   ],
   "source": [
    "# What is the count of Congressional members, on a state-by-state basis, over the entire history of the dataset?\n",
    "df.groupby(['state'])['last_name'].count()"
   ]
  },
  {
   "cell_type": "code",
   "execution_count": 73,
   "metadata": {},
   "outputs": [
    {
     "name": "stdout",
     "output_type": "stream",
     "text": [
      "AK 16\n",
      "AL 206\n",
      "AR 117\n",
      "AS 2\n",
      "AZ 48\n",
      "CA 361\n",
      "CO 90\n",
      "CT 240\n",
      "DC 2\n",
      "DE 97\n",
      "DK 9\n",
      "FL 155\n",
      "GA 309\n",
      "GU 4\n",
      "HI 23\n",
      "IA 202\n",
      "ID 59\n",
      "IL 486\n",
      "IN 341\n",
      "KS 141\n",
      "KY 373\n",
      "LA 197\n",
      "MA 426\n",
      "MD 305\n",
      "ME 175\n",
      "MI 294\n",
      "MN 160\n",
      "MO 333\n",
      "MS 155\n",
      "MT 52\n",
      "NC 354\n",
      "ND 44\n",
      "NE 127\n",
      "NH 181\n",
      "NJ 359\n",
      "NM 54\n",
      "NV 56\n",
      "NY 1461\n",
      "OH 674\n",
      "OK 92\n",
      "OL 2\n",
      "OR 89\n",
      "PA 1053\n",
      "PI 13\n",
      "PR 19\n",
      "RI 107\n",
      "SC 251\n",
      "SD 51\n",
      "TN 299\n",
      "TX 256\n",
      "UT 53\n",
      "VA 432\n",
      "VI 4\n",
      "VT 115\n",
      "WA 95\n",
      "WI 196\n",
      "WV 120\n",
      "WY 40\n"
     ]
    }
   ],
   "source": [
    "# count for each state\n",
    "for _state, _df in df.groupby(['state']):\n",
    "    print(_state, _df.shape[0])"
   ]
  },
  {
   "cell_type": "code",
   "execution_count": 74,
   "metadata": {},
   "outputs": [
    {
     "data": {
      "text/plain": [
       "state  gender\n",
       "AK     F           0\n",
       "       M          16\n",
       "AL     F           3\n",
       "       M         203\n",
       "AR     F           5\n",
       "                ... \n",
       "WI     M         196\n",
       "WV     F           1\n",
       "       M         119\n",
       "WY     F           2\n",
       "       M          38\n",
       "Name: last_name, Length: 116, dtype: int64"
      ]
     },
     "execution_count": 74,
     "metadata": {},
     "output_type": "execute_result"
    }
   ],
   "source": [
    "df.groupby(['state', 'gender'])['last_name'].count()"
   ]
  },
  {
   "cell_type": "code",
   "execution_count": 82,
   "metadata": {},
   "outputs": [],
   "source": [
    "# In the Pandas version, the grouped-on columns are pushed into the MultiIndex of the resulting Series by default\n",
    "n_by_state_gender = df.groupby(['state', 'gender'])['last_name'].count();"
   ]
  },
  {
   "cell_type": "code",
   "execution_count": 85,
   "metadata": {},
   "outputs": [
    {
     "data": {
      "text/plain": [
       "pandas.core.series.Series"
      ]
     },
     "execution_count": 85,
     "metadata": {},
     "output_type": "execute_result"
    }
   ],
   "source": [
    "type(n_by_state_gender)"
   ]
  },
  {
   "cell_type": "code",
   "execution_count": 86,
   "metadata": {},
   "outputs": [
    {
     "data": {
      "text/plain": [
       "MultiIndex([('AK', 'F'),\n",
       "            ('AK', 'M'),\n",
       "            ('AL', 'F'),\n",
       "            ('AL', 'M'),\n",
       "            ('AR', 'F')],\n",
       "           names=['state', 'gender'])"
      ]
     },
     "execution_count": 86,
     "metadata": {},
     "output_type": "execute_result"
    }
   ],
   "source": [
    "n_by_state_gender.index[:5]"
   ]
  },
  {
   "cell_type": "code",
   "execution_count": 89,
   "metadata": {},
   "outputs": [
    {
     "data": {
      "text/html": [
       "<div>\n",
       "<style scoped>\n",
       "    .dataframe tbody tr th:only-of-type {\n",
       "        vertical-align: middle;\n",
       "    }\n",
       "\n",
       "    .dataframe tbody tr th {\n",
       "        vertical-align: top;\n",
       "    }\n",
       "\n",
       "    .dataframe thead th {\n",
       "        text-align: right;\n",
       "    }\n",
       "</style>\n",
       "<table border=\"1\" class=\"dataframe\">\n",
       "  <thead>\n",
       "    <tr style=\"text-align: right;\">\n",
       "      <th></th>\n",
       "      <th>state</th>\n",
       "      <th>gender</th>\n",
       "      <th>last_name</th>\n",
       "    </tr>\n",
       "  </thead>\n",
       "  <tbody>\n",
       "    <tr>\n",
       "      <th>0</th>\n",
       "      <td>AK</td>\n",
       "      <td>F</td>\n",
       "      <td>NaN</td>\n",
       "    </tr>\n",
       "    <tr>\n",
       "      <th>1</th>\n",
       "      <td>AK</td>\n",
       "      <td>M</td>\n",
       "      <td>16.0</td>\n",
       "    </tr>\n",
       "    <tr>\n",
       "      <th>2</th>\n",
       "      <td>AL</td>\n",
       "      <td>F</td>\n",
       "      <td>3.0</td>\n",
       "    </tr>\n",
       "    <tr>\n",
       "      <th>3</th>\n",
       "      <td>AL</td>\n",
       "      <td>M</td>\n",
       "      <td>203.0</td>\n",
       "    </tr>\n",
       "    <tr>\n",
       "      <th>4</th>\n",
       "      <td>AR</td>\n",
       "      <td>F</td>\n",
       "      <td>5.0</td>\n",
       "    </tr>\n",
       "    <tr>\n",
       "      <th>...</th>\n",
       "      <td>...</td>\n",
       "      <td>...</td>\n",
       "      <td>...</td>\n",
       "    </tr>\n",
       "    <tr>\n",
       "      <th>111</th>\n",
       "      <td>WI</td>\n",
       "      <td>M</td>\n",
       "      <td>196.0</td>\n",
       "    </tr>\n",
       "    <tr>\n",
       "      <th>112</th>\n",
       "      <td>WV</td>\n",
       "      <td>F</td>\n",
       "      <td>1.0</td>\n",
       "    </tr>\n",
       "    <tr>\n",
       "      <th>113</th>\n",
       "      <td>WV</td>\n",
       "      <td>M</td>\n",
       "      <td>119.0</td>\n",
       "    </tr>\n",
       "    <tr>\n",
       "      <th>114</th>\n",
       "      <td>WY</td>\n",
       "      <td>F</td>\n",
       "      <td>2.0</td>\n",
       "    </tr>\n",
       "    <tr>\n",
       "      <th>115</th>\n",
       "      <td>WY</td>\n",
       "      <td>M</td>\n",
       "      <td>38.0</td>\n",
       "    </tr>\n",
       "  </tbody>\n",
       "</table>\n",
       "<p>116 rows × 3 columns</p>\n",
       "</div>"
      ],
      "text/plain": [
       "    state gender  last_name\n",
       "0      AK      F        NaN\n",
       "1      AK      M       16.0\n",
       "2      AL      F        3.0\n",
       "3      AL      M      203.0\n",
       "4      AR      F        5.0\n",
       "..    ...    ...        ...\n",
       "111    WI      M      196.0\n",
       "112    WV      F        1.0\n",
       "113    WV      M      119.0\n",
       "114    WY      F        2.0\n",
       "115    WY      M       38.0\n",
       "\n",
       "[116 rows x 3 columns]"
      ]
     },
     "execution_count": 89,
     "metadata": {},
     "output_type": "execute_result"
    }
   ],
   "source": [
    "# To more closely emulate the SQL result and push the grouped-on columns back into columns in the result, you an use as_index=False:\n",
    "df.groupby(['state', 'gender'], as_index=False)['last_name'].count()"
   ]
  },
  {
   "cell_type": "code",
   "execution_count": 95,
   "metadata": {},
   "outputs": [
    {
     "data": {
      "text/plain": [
       "state  gender\n",
       "AK     F           0\n",
       "       M          16\n",
       "AL     F           3\n",
       "       M         203\n",
       "AR     F           5\n",
       "                ... \n",
       "WI     M         196\n",
       "WV     F           1\n",
       "       M         119\n",
       "WY     F           2\n",
       "       M          38\n",
       "Name: last_name, Length: 116, dtype: int64"
      ]
     },
     "execution_count": 95,
     "metadata": {},
     "output_type": "execute_result"
    }
   ],
   "source": [
    "df.groupby(['state', 'gender'])['last_name'].size()"
   ]
  },
  {
   "cell_type": "markdown",
   "metadata": {},
   "source": [
    "<h3> How Pandas GroupBy Works </h3>"
   ]
  },
  {
   "cell_type": "code",
   "execution_count": 97,
   "metadata": {},
   "outputs": [],
   "source": [
    "by_state = df.groupby('state')"
   ]
  },
  {
   "cell_type": "code",
   "execution_count": 98,
   "metadata": {},
   "outputs": [
    {
     "name": "stdout",
     "output_type": "stream",
     "text": [
      "<pandas.core.groupby.generic.DataFrameGroupBy object at 0x0000024D09CD3518>\n"
     ]
    }
   ],
   "source": [
    "print(by_state)"
   ]
  },
  {
   "cell_type": "markdown",
   "metadata": {},
   "source": [
    "<p>One term that’s frequently used alongside .groupby() is split-apply-combine. This refers to a chain of three steps:</p>\n",
    "\n",
    "<ul>\n",
    "<li>Split a table into groups</li>\n",
    "<li>Apply some operations to each of those smaller tables</li>\n",
    "<li>Combine the results</li>\n",
    "</ul>"
   ]
  },
  {
   "cell_type": "code",
   "execution_count": 102,
   "metadata": {},
   "outputs": [
    {
     "name": "stdout",
     "output_type": "stream",
     "text": [
      "AK 16\n",
      "AL 206\n",
      "AR 117\n",
      "AS 2\n",
      "AZ 48\n",
      "CA 361\n",
      "CO 90\n",
      "CT 240\n",
      "DC 2\n",
      "DE 97\n",
      "DK 9\n",
      "FL 155\n",
      "GA 309\n",
      "GU 4\n",
      "HI 23\n",
      "IA 202\n",
      "ID 59\n",
      "IL 486\n",
      "IN 341\n",
      "KS 141\n",
      "KY 373\n",
      "LA 197\n",
      "MA 426\n",
      "MD 305\n",
      "ME 175\n",
      "MI 294\n",
      "MN 160\n",
      "MO 333\n",
      "MS 155\n",
      "MT 52\n",
      "NC 354\n",
      "ND 44\n",
      "NE 127\n",
      "NH 181\n",
      "NJ 359\n",
      "NM 54\n",
      "NV 56\n",
      "NY 1461\n",
      "OH 674\n",
      "OK 92\n",
      "OL 2\n",
      "OR 89\n",
      "PA 1053\n",
      "PI 13\n",
      "PR 19\n",
      "RI 107\n",
      "SC 251\n",
      "SD 51\n",
      "TN 299\n",
      "TX 256\n",
      "UT 53\n",
      "VA 432\n",
      "VI 4\n",
      "VT 115\n",
      "WA 95\n",
      "WI 196\n",
      "WV 120\n",
      "WY 40\n"
     ]
    }
   ],
   "source": [
    "for _state, _frame in by_state:\n",
    "    print(_state, _frame.shape[0])\n",
    "    "
   ]
  },
  {
   "cell_type": "code",
   "execution_count": 103,
   "metadata": {},
   "outputs": [
    {
     "data": {
      "text/html": [
       "<div>\n",
       "<style scoped>\n",
       "    .dataframe tbody tr th:only-of-type {\n",
       "        vertical-align: middle;\n",
       "    }\n",
       "\n",
       "    .dataframe tbody tr th {\n",
       "        vertical-align: top;\n",
       "    }\n",
       "\n",
       "    .dataframe thead th {\n",
       "        text-align: right;\n",
       "    }\n",
       "</style>\n",
       "<table border=\"1\" class=\"dataframe\">\n",
       "  <thead>\n",
       "    <tr style=\"text-align: right;\">\n",
       "      <th></th>\n",
       "      <th>last_name</th>\n",
       "      <th>first_name</th>\n",
       "      <th>birthday</th>\n",
       "      <th>gender</th>\n",
       "      <th>type</th>\n",
       "      <th>state</th>\n",
       "      <th>party</th>\n",
       "    </tr>\n",
       "  </thead>\n",
       "  <tbody>\n",
       "    <tr>\n",
       "      <th>226</th>\n",
       "      <td>McMillan</td>\n",
       "      <td>William</td>\n",
       "      <td>1764-03-02</td>\n",
       "      <td>M</td>\n",
       "      <td>rep</td>\n",
       "      <td>OH</td>\n",
       "      <td>NaN</td>\n",
       "    </tr>\n",
       "    <tr>\n",
       "      <th>254</th>\n",
       "      <td>Fearing</td>\n",
       "      <td>Paul</td>\n",
       "      <td>1762-02-28</td>\n",
       "      <td>M</td>\n",
       "      <td>rep</td>\n",
       "      <td>OH</td>\n",
       "      <td>Federalist</td>\n",
       "    </tr>\n",
       "    <tr>\n",
       "      <th>326</th>\n",
       "      <td>Smith</td>\n",
       "      <td>John</td>\n",
       "      <td>NaT</td>\n",
       "      <td>M</td>\n",
       "      <td>sen</td>\n",
       "      <td>OH</td>\n",
       "      <td>Republican</td>\n",
       "    </tr>\n",
       "    <tr>\n",
       "      <th>443</th>\n",
       "      <td>Tiffin</td>\n",
       "      <td>Edward</td>\n",
       "      <td>1766-06-19</td>\n",
       "      <td>M</td>\n",
       "      <td>sen</td>\n",
       "      <td>OH</td>\n",
       "      <td>Republican</td>\n",
       "    </tr>\n",
       "    <tr>\n",
       "      <th>453</th>\n",
       "      <td>Meigs</td>\n",
       "      <td>Return</td>\n",
       "      <td>1764-11-17</td>\n",
       "      <td>M</td>\n",
       "      <td>sen</td>\n",
       "      <td>OH</td>\n",
       "      <td>Republican</td>\n",
       "    </tr>\n",
       "    <tr>\n",
       "      <th>...</th>\n",
       "      <td>...</td>\n",
       "      <td>...</td>\n",
       "      <td>...</td>\n",
       "      <td>...</td>\n",
       "      <td>...</td>\n",
       "      <td>...</td>\n",
       "      <td>...</td>\n",
       "    </tr>\n",
       "    <tr>\n",
       "      <th>11707</th>\n",
       "      <td>Schmidt</td>\n",
       "      <td>Jean</td>\n",
       "      <td>1951-11-29</td>\n",
       "      <td>F</td>\n",
       "      <td>rep</td>\n",
       "      <td>OH</td>\n",
       "      <td>Republican</td>\n",
       "    </tr>\n",
       "    <tr>\n",
       "      <th>11712</th>\n",
       "      <td>Sutton</td>\n",
       "      <td>Betty</td>\n",
       "      <td>1963-07-31</td>\n",
       "      <td>F</td>\n",
       "      <td>rep</td>\n",
       "      <td>OH</td>\n",
       "      <td>Democrat</td>\n",
       "    </tr>\n",
       "    <tr>\n",
       "      <th>11799</th>\n",
       "      <td>Boehner</td>\n",
       "      <td>John</td>\n",
       "      <td>1949-11-17</td>\n",
       "      <td>M</td>\n",
       "      <td>rep</td>\n",
       "      <td>OH</td>\n",
       "      <td>Republican</td>\n",
       "    </tr>\n",
       "    <tr>\n",
       "      <th>11871</th>\n",
       "      <td>Tiberi</td>\n",
       "      <td>Patrick</td>\n",
       "      <td>1962-10-21</td>\n",
       "      <td>M</td>\n",
       "      <td>rep</td>\n",
       "      <td>OH</td>\n",
       "      <td>Republican</td>\n",
       "    </tr>\n",
       "    <tr>\n",
       "      <th>11922</th>\n",
       "      <td>Renacci</td>\n",
       "      <td>James</td>\n",
       "      <td>1958-12-03</td>\n",
       "      <td>M</td>\n",
       "      <td>rep</td>\n",
       "      <td>OH</td>\n",
       "      <td>Republican</td>\n",
       "    </tr>\n",
       "  </tbody>\n",
       "</table>\n",
       "<p>674 rows × 7 columns</p>\n",
       "</div>"
      ],
      "text/plain": [
       "      last_name first_name   birthday gender type state       party\n",
       "226    McMillan    William 1764-03-02      M  rep    OH         NaN\n",
       "254     Fearing       Paul 1762-02-28      M  rep    OH  Federalist\n",
       "326       Smith       John        NaT      M  sen    OH  Republican\n",
       "443      Tiffin     Edward 1766-06-19      M  sen    OH  Republican\n",
       "453       Meigs     Return 1764-11-17      M  sen    OH  Republican\n",
       "...         ...        ...        ...    ...  ...   ...         ...\n",
       "11707   Schmidt       Jean 1951-11-29      F  rep    OH  Republican\n",
       "11712    Sutton      Betty 1963-07-31      F  rep    OH    Democrat\n",
       "11799   Boehner       John 1949-11-17      M  rep    OH  Republican\n",
       "11871    Tiberi    Patrick 1962-10-21      M  rep    OH  Republican\n",
       "11922   Renacci      James 1958-12-03      M  rep    OH  Republican\n",
       "\n",
       "[674 rows x 7 columns]"
      ]
     },
     "execution_count": 103,
     "metadata": {},
     "output_type": "execute_result"
    }
   ],
   "source": [
    "by_state.get_group('OH')"
   ]
  },
  {
   "cell_type": "code",
   "execution_count": 104,
   "metadata": {},
   "outputs": [
    {
     "data": {
      "text/plain": [
       "Int64Index([  226,   254,   326,   443,   453,   462,   475,   523,   589,\n",
       "              671,\n",
       "            ...\n",
       "            11605, 11616, 11653, 11686, 11687, 11707, 11712, 11799, 11871,\n",
       "            11922],\n",
       "           dtype='int64', length=674)"
      ]
     },
     "execution_count": 104,
     "metadata": {},
     "output_type": "execute_result"
    }
   ],
   "source": [
    "by_state.groups['OH']"
   ]
  },
  {
   "cell_type": "code",
   "execution_count": 108,
   "metadata": {},
   "outputs": [
    {
     "data": {
      "text/plain": [
       "{'AK': Int64Index([ 6619,  6647,  7442,  7501,  8039,  8236,  8877,  9819,  9951,\n",
       "              9985, 10082, 10108, 10325, 11262, 11386, 11734],\n",
       "            dtype='int64'),\n",
       " 'AL': Int64Index([  912,   991,  1079,  1180,  1252,  1307,  1320,  1360,  1533,\n",
       "              1621,\n",
       "             ...\n",
       "             11321, 11463, 11473, 11536, 11545, 11557, 11725, 11745, 11861,\n",
       "             11870],\n",
       "            dtype='int64', length=206),\n",
       " 'AR': Int64Index([ 1001,  1279,  2096,  2254,  2318,  2421,  2466,  2472,  2598,\n",
       "              3103,\n",
       "             ...\n",
       "             11156, 11188, 11239, 11307, 11429, 11531, 11602, 11704, 11741,\n",
       "             11758],\n",
       "            dtype='int64', length=117),\n",
       " 'AS': Int64Index([10797, 11755], dtype='int64'),\n",
       " 'AZ': Int64Index([ 3674,  3725,  3801,  4657,  4700,  5044,  5110,  5986,  6505,\n",
       "              7244,  7541,  8103,  8386,  8431,  9132,  9163,  9355,  9441,\n",
       "              9775,  9821,  9959, 10132, 10315, 10374, 10603, 10636, 10682,\n",
       "             10744, 10817, 10966, 10987, 11010, 11017, 11335, 11418, 11427,\n",
       "             11512, 11583, 11600, 11626, 11699, 11773, 11784, 11849, 11868,\n",
       "             11878, 11881, 11900],\n",
       "            dtype='int64'),\n",
       " 'CA': Int64Index([ 2650,  2742,  2747,  2830,  2832,  2901,  3078,  3096,  3184,\n",
       "              3221,\n",
       "             ...\n",
       "             11830, 11846, 11860, 11896, 11909, 11923, 11929, 11938, 11949,\n",
       "             11950],\n",
       "            dtype='int64', length=361),\n",
       " 'CO': Int64Index([ 3614,  3933,  4546,  4737,  4950,  4955,  4957,  5081,  5336,\n",
       "              5665,  5827,  6033,  6281,  6360,  6494,  6521,  6560,  6634,\n",
       "              6652,  6674,  6677,  6798,  6975,  7069,  7121,  7122,  7255,\n",
       "              7322,  7330,  7623,  7769,  7808,  7915,  7919,  7922,  8091,\n",
       "              8107,  8135,  8226,  8249,  8250,  8627,  8638,  8647,  8685,\n",
       "              8842,  8907,  8991,  9188,  9245,  9259,  9352,  9540,  9567,\n",
       "              9659,  9802,  9941,  9982, 10051, 10087, 10105, 10160, 10199,\n",
       "             10239, 10413, 10511, 10608, 10676, 10708, 10732, 10748, 10802,\n",
       "             10878, 11152, 11207, 11209, 11230, 11329, 11344, 11377, 11392,\n",
       "             11419, 11442, 11504, 11517, 11575, 11597, 11743, 11893, 11920],\n",
       "            dtype='int64'),\n",
       " 'CT': Int64Index([   14,    16,    35,    45,    49,    77,    83,    94,   138,\n",
       "               140,\n",
       "             ...\n",
       "             11115, 11191, 11247, 11313, 11406, 11424, 11446, 11516, 11643,\n",
       "             11939],\n",
       "            dtype='int64', length=240),\n",
       " 'DC': Int64Index([4232, 10821], dtype='int64'),\n",
       " 'DE': Int64Index([    0,    40,    93,   129,   165,   189,   333,   401,   527,\n",
       "               664,   706,   730,   930,  1081,  1153,  1253,  1308,  1324,\n",
       "              1403,  1634,  1861,  2008,  2049,  2076,  2311,  2581,  2666,\n",
       "              2735,  2927,  3073,  3170,  3176,  3466,  3527,  3680,  3686,\n",
       "              3702,  3769,  3802,  3869,  4078,  4293,  4677,  4807,  4880,\n",
       "              5068,  5175,  5429,  5475,  5722,  5765,  6030,  6084,  6102,\n",
       "              6223,  6224,  6401,  6449,  6645,  6717,  6924,  6998,  7018,\n",
       "              7120,  7218,  7352,  7383,  7400,  7605,  7672,  7678,  7837,\n",
       "              8137,  8146,  8252,  8476,  8479,  8497,  8556,  8719,  8847,\n",
       "              8861,  8956,  9069,  9457,  9494,  9563,  9939,  9978,  9986,\n",
       "             10387, 10596, 11151, 11532, 11542, 11618, 11816],\n",
       "            dtype='int64'),\n",
       " 'DK': Int64Index([3642, 3687, 3809, 4033, 4215, 4618, 4693, 5059, 5451], dtype='int64'),\n",
       " 'FL': Int64Index([ 1031,  1090,  1781,  1948,  2351,  2459,  2693,  2772,  3115,\n",
       "              3168,\n",
       "             ...\n",
       "             11851, 11852, 11853, 11856, 11879, 11886, 11925, 11926, 11928,\n",
       "             11951],\n",
       "            dtype='int64', length=155),\n",
       " 'GA': Int64Index([    8,    20,    51,    54,    63,   101,   114,   147,   219,\n",
       "               262,\n",
       "             ...\n",
       "             11574, 11576, 11735, 11746, 11749, 11757, 11762, 11848, 11862,\n",
       "             11971],\n",
       "            dtype='int64', length=309),\n",
       " 'GU': Int64Index([10704, 10874, 11338, 11890], dtype='int64'),\n",
       " 'HI': Int64Index([ 6395,  7524,  7591,  7791,  8147,  8333,  8789,  9412,  9490,\n",
       "              9632,  9664,  9815, 10133, 10725, 10836, 10848, 11317, 11525,\n",
       "             11622, 11637, 11638, 11802, 11963],\n",
       "            dtype='int64'),\n",
       " 'IA': Int64Index([ 1931,  2391,  2599,  2678,  2688,  2726,  2779,  2928,  2961,\n",
       "              2973,\n",
       "             ...\n",
       "             11132, 11298, 11428, 11434, 11664, 11737, 11748, 11763, 11952,\n",
       "             11953],\n",
       "            dtype='int64', length=202),\n",
       " 'ID': Int64Index([ 3693,  3846,  4027,  4155,  4406,  4587,  4801,  5072,  5151,\n",
       "              5535,  5854,  6009,  6082,  6087,  6272,  6306,  6317,  6790,\n",
       "              6792,  7002,  7168,  7214,  7393,  7874,  8119,  8210,  8286,\n",
       "              8353,  8507,  8643,  8946,  8992,  9063,  9127,  9266,  9278,\n",
       "              9290,  9384,  9388,  9631,  9716,  9755,  9820,  9977, 10003,\n",
       "             10237, 10313, 10670, 10737, 10800, 10983, 11038, 11043, 11233,\n",
       "             11354, 11436, 11514, 11582, 11912],\n",
       "            dtype='int64'),\n",
       " 'IL': Int64Index([  595,   772,   861,   890,  1146,  1182,  1414,  1451,  1518,\n",
       "              1593,\n",
       "             ...\n",
       "             11692, 11706, 11714, 11789, 11798, 11808, 11854, 11905, 11908,\n",
       "             11927],\n",
       "            dtype='int64', length=486),\n",
       " 'IN': Int64Index([  431,   985,  1089,  1130,  1269,  1316,  1402,  1441,  1501,\n",
       "              1502,\n",
       "             ...\n",
       "             11562, 11604, 11644, 11666, 11697, 11807, 11847, 11897, 11924,\n",
       "             11940],\n",
       "            dtype='int64', length=341),\n",
       " 'KS': Int64Index([ 3163,  3422,  3506,  3697,  3750,  3795,  3882,  3944,  4090,\n",
       "              4238,\n",
       "             ...\n",
       "             11213, 11399, 11440, 11458, 11585, 11612, 11831, 11859, 11910,\n",
       "             11936],\n",
       "            dtype='int64', length=141),\n",
       " 'KY': Int64Index([   55,   113,   123,   126,   196,   248,   251,   342,   356,\n",
       "               376,\n",
       "             ...\n",
       "             11163, 11170, 11361, 11373, 11400, 11433, 11497, 11625, 11669,\n",
       "             11801],\n",
       "            dtype='int64', length=373),\n",
       " 'LA': Int64Index([  584,   585,   586,   620,   814,   864,   901,   906,  1166,\n",
       "              1270,\n",
       "             ...\n",
       "             11524, 11540, 11581, 11688, 11726, 11739, 11792, 11811, 11813,\n",
       "             11823],\n",
       "            dtype='int64', length=197),\n",
       " 'MA': Int64Index([    6,    12,    22,    33,    36,    60,    65,    66,    75,\n",
       "                89,\n",
       "             ...\n",
       "             11548, 11621, 11648, 11676, 11695, 11722, 11724, 11781, 11892,\n",
       "             11934],\n",
       "            dtype='int64', length=426),\n",
       " 'MD': Int64Index([    3,     5,    10,    24,    25,    34,    39,    43,    44,\n",
       "                48,\n",
       "             ...\n",
       "             11296, 11319, 11326, 11478, 11523, 11573, 11655, 11809, 11818,\n",
       "             11941],\n",
       "            dtype='int64', length=305),\n",
       " 'ME': Int64Index([ 1019,  1029,  1032,  1073,  1074,  1091,  1094,  1119,  1202,\n",
       "              1211,\n",
       "             ...\n",
       "             10808, 10838, 10883, 10997, 11133, 11275, 11456, 11646, 11768,\n",
       "             11954],\n",
       "            dtype='int64', length=175),\n",
       " 'MI': Int64Index([ 1062,  1133,  1364,  1561,  1869,  1937,  2033,  2212,  2293,\n",
       "              2360,\n",
       "             ...\n",
       "             11754, 11776, 11790, 11804, 11812, 11867, 11914, 11955, 11956,\n",
       "             11972],\n",
       "            dtype='int64', length=294),\n",
       " 'MN': Int64Index([ 2866,  3241,  3267,  3308,  3478,  3760,  3823,  4017,  4057,\n",
       "              4058,\n",
       "             ...\n",
       "             11589, 11672, 11744, 11834, 11869, 11899, 11917, 11935, 11942,\n",
       "             11965],\n",
       "            dtype='int64', length=160),\n",
       " 'MO': Int64Index([  627,   712,  1174,  1236,  1266,  1419,  1470,  1577,  1665,\n",
       "              1849,\n",
       "             ...\n",
       "             11342, 11363, 11376, 11396, 11485, 11601, 11651, 11668, 11721,\n",
       "             11885],\n",
       "            dtype='int64', length=333),\n",
       " 'MS': Int64Index([  256,   260,   743,   842,   994,  1163,  1232,  1283,  1291,\n",
       "              1397,\n",
       "             ...\n",
       "             11139, 11200, 11330, 11498, 11507, 11543, 11610, 11797, 11873,\n",
       "             11906],\n",
       "            dtype='int64', length=155),\n",
       " 'MT': Int64Index([ 3756,  3941,  4094,  5033,  5342,  5536,  5537,  5581,  5968,\n",
       "              6086,  6188,  6295,  6308,  6316,  6529,  6662,  6967,  7252,\n",
       "              7344,  7615,  7642,  8113,  8167,  8231,  8298,  8387,  8458,\n",
       "              8587,  8713,  8820,  8850,  9026,  9113,  9410,  9493,  9511,\n",
       "              9618, 10037, 10080, 10156, 10261, 10282, 10473, 10683, 10939,\n",
       "             11164, 11250, 11284, 11700, 11731, 11793, 11864],\n",
       "            dtype='int64'),\n",
       " 'NC': Int64Index([   13,    17,    30,    47,    53,    67,    79,    80,    81,\n",
       "                98,\n",
       "             ...\n",
       "             11693, 11694, 11708, 11729, 11736, 11766, 11795, 11819, 11943,\n",
       "             11974],\n",
       "            dtype='int64', length=354),\n",
       " 'ND': Int64Index([ 5384,  5479,  5835,  6446,  6491,  6701,  6802,  6863,  6875,\n",
       "              6921,  7189,  7318,  7340,  7346,  7399,  7603,  7767,  8072,\n",
       "              8134,  8363,  8428,  8693,  9022,  9186,  9251,  9297,  9430,\n",
       "              9534,  9578,  9630,  9854,  9868,  9950, 10065, 10153, 10386,\n",
       "             10555, 10810, 10995, 11407, 11593, 11640, 11657, 11944],\n",
       "            dtype='int64'),\n",
       " 'NE': Int64Index([ 2954,  3068,  3209,  3362,  3627,  3860,  3895,  4048,  4136,\n",
       "              4193,\n",
       "             ...\n",
       "             11130, 11173, 11225, 11348, 11366, 11435, 11645, 11780, 11796,\n",
       "             11857],\n",
       "            dtype='int64', length=127),\n",
       " 'NH': Int64Index([   99,   120,   134,   180,   184,   209,   214,   223,   255,\n",
       "               273,\n",
       "             ...\n",
       "             11166, 11210, 11387, 11398, 11414, 11563, 11656, 11805, 11855,\n",
       "             11964],\n",
       "            dtype='int64', length=181),\n",
       " 'NJ': Int64Index([    7,    23,    28,    58,    59,    62,    64,    71,   118,\n",
       "               135,\n",
       "             ...\n",
       "             11723, 11728, 11732, 11761, 11777, 11825, 11901, 11913, 11915,\n",
       "             11957],\n",
       "            dtype='int64', length=359),\n",
       " 'NM': Int64Index([ 2885,  3420,  3595,  3672,  3814,  3942,  4118,  4649,  4763,\n",
       "              5030,  5035,  5790,  6246,  6483,  6882,  6900,  6999,  7040,\n",
       "              7380,  7429,  7447,  7540,  7621,  7709,  7895,  7928,  7946,\n",
       "              8027,  8070,  8899,  9155,  9265,  9491,  9551,  9638,  9782,\n",
       "              9983, 10012, 10026, 10057, 10164, 10454, 10533, 10785, 11203,\n",
       "             11204, 11208, 11333, 11358, 11522, 11611, 11639, 11882, 11918],\n",
       "            dtype='int64'),\n",
       " 'NV': Int64Index([ 3510,  3664,  3698,  3797,  3872,  3966,  4285,  4506,  4681,\n",
       "              4712,  4837,  4969,  5353,  5544,  6099,  6261,  6614,  6738,\n",
       "              6960,  7001,  7225,  7357,  7390,  7428,  7743,  7898,  8060,\n",
       "              8466,  8855,  8945,  8971,  8975,  9190,  9346,  9434,  9467,\n",
       "              9524, 10040, 10106, 10290, 10402, 10616, 10640, 10672, 11004,\n",
       "             11097, 11160, 11412, 11472, 11508, 11658, 11810, 11828, 11858,\n",
       "             11937, 11966],\n",
       "            dtype='int64'),\n",
       " 'NY': Int64Index([    9,    26,    32,    42,    46,    73,    90,    91,    92,\n",
       "                97,\n",
       "             ...\n",
       "             11794, 11826, 11827, 11833, 11843, 11872, 11894, 11962, 11967,\n",
       "             11968],\n",
       "            dtype='int64', length=1461),\n",
       " 'OH': Int64Index([  226,   254,   326,   443,   453,   462,   475,   523,   589,\n",
       "               671,\n",
       "             ...\n",
       "             11605, 11616, 11653, 11686, 11687, 11707, 11712, 11799, 11871,\n",
       "             11922],\n",
       "            dtype='int64', length=674),\n",
       " 'OK': Int64Index([ 5601,  6060,  6314,  6669,  6759,  7094,  7146,  7182,  7224,\n",
       "              7431,  7471,  7477,  7502,  7504,  7544,  7566,  7572,  7575,\n",
       "              7635,  7643,  7775,  7803,  7809,  7879,  8012,  8037,  8121,\n",
       "              8127,  8311,  8330,  8334,  8338,  8370,  8429,  8554,  8567,\n",
       "              8608,  8658,  8742,  8799,  8822,  8878,  8919,  8923,  8967,\n",
       "              9006,  9058,  9066,  9141,  9177,  9185,  9233,  9292,  9368,\n",
       "              9373,  9670,  9731,  9808,  9850,  9885,  9924,  9997, 10022,\n",
       "             10109, 10130, 10193, 10201, 10260, 10304, 10309, 10342, 10447,\n",
       "             10540, 10730, 10875, 10898, 11016, 11057, 11082, 11095, 11263,\n",
       "             11311, 11339, 11340, 11350, 11422, 11555, 11663, 11711, 11753,\n",
       "             11876, 11958],\n",
       "            dtype='int64'),\n",
       " 'OL': Int64Index([404, 503], dtype='int64'),\n",
       " 'OR': Int64Index([ 2728,  3398,  3442,  3453,  3474,  3577,  3581,  3583,  3603,\n",
       "              3658,  3734,  3787,  3817,  3858,  4030,  4139,  4315,  4390,\n",
       "              4465,  4467,  4599,  4679,  4780,  4794,  4999,  5409,  5969,\n",
       "              6170,  6347,  6349,  6439,  6498,  6548,  6557,  6623,  6635,\n",
       "              6769,  7076,  7077,  7175,  7392,  7614,  7656,  7760,  7861,\n",
       "              7907,  7992,  8073,  8139,  8331,  8365,  8425,  8555,  8622,\n",
       "              8625,  8673,  8817,  8913,  9023,  9223,  9374,  9393,  9481,\n",
       "              9489,  9514,  9673,  9691,  9692,  9715,  9851,  9853, 10213,\n",
       "             10226, 10296, 10494, 10546, 10750, 10853, 10870, 10912, 11040,\n",
       "             11064, 11099, 11107, 11181, 11212, 11383, 11484, 11633],\n",
       "            dtype='int64'),\n",
       " 'PA': Int64Index([    4,    19,    21,    27,    38,    57,    69,    76,    84,\n",
       "                88,\n",
       "             ...\n",
       "             11842, 11866, 11875, 11877, 11887, 11891, 11932, 11945, 11959,\n",
       "             11973],\n",
       "            dtype='int64', length=1053),\n",
       " 'PI': Int64Index([6835, 6939, 7185, 7233, 7516, 7555, 7961, 8349, 8414, 8434, 8593,\n",
       "             8881, 9046],\n",
       "            dtype='int64'),\n",
       " 'PR': Int64Index([ 6426,  6811,  7235,  8106,  8195,  8675,  8927,  9034,  9810,\n",
       "             10016, 10126, 10310, 10660, 10885, 10903, 11206, 11343, 11476,\n",
       "             11841],\n",
       "            dtype='int64'),\n",
       " 'RI': Int64Index([   61,   105,   161,   195,   215,   252,   284,   322,   336,\n",
       "               355,\n",
       "             ...\n",
       "             10289, 10482, 10795, 10850, 10960, 11050, 11100, 11270, 11287,\n",
       "             11568],\n",
       "            dtype='int64', length=107),\n",
       " 'SC': Int64Index([    2,    15,    31,    37,    50,    72,    87,   111,   131,\n",
       "               145,\n",
       "             ...\n",
       "             11251, 11334, 11529, 11537, 11565, 11606, 11720, 11863, 11903,\n",
       "             11947],\n",
       "            dtype='int64', length=251),\n",
       " 'SD': Int64Index([ 5423,  5462,  5591,  5609,  5798,  5993,  5995,  6101,  6104,\n",
       "              6106,  6454,  6671,  6679,  6710,  6758,  7021,  7089,  7200,\n",
       "              7293,  7435,  7500,  7801,  8082,  8154,  8238,  8346,  8485,\n",
       "              8491,  8511,  8553,  8624,  8863,  8993,  9207,  9508,  9541,\n",
       "              9781, 10014, 10039, 10084, 10190, 10214, 10354, 10554, 10638,\n",
       "             10962, 11238, 11369, 11561, 11738, 11916],\n",
       "            dtype='int64'),\n",
       " 'TN': Int64Index([  141,   142,   198,   350,   378,   457,   496,   517,   518,\n",
       "               596,\n",
       "             ...\n",
       "             11423, 11465, 11546, 11556, 11608, 11613, 11821, 11883, 11889,\n",
       "             11898],\n",
       "            dtype='int64', length=299),\n",
       " 'TX': Int64Index([ 2568,  2671,  2814,  2857,  2864,  2966,  3016,  3058,  3084,\n",
       "              3186,\n",
       "             ...\n",
       "             11874, 11888, 11895, 11904, 11907, 11911, 11919, 11931, 11933,\n",
       "             11946],\n",
       "            dtype='int64', length=256),\n",
       " 'UT': Int64Index([ 3484,  3647,  4137,  4816,  5564,  5882,  6039,  6040,  6135,\n",
       "              6333,  6982,  7065,  7196,  7463,  7510,  7908,  7996,  8087,\n",
       "              8172,  8448,  8809,  9041,  9065,  9304,  9328,  9453,  9458,\n",
       "              9549,  9641,  9754,  9928, 10038, 10041, 10154, 10167, 10338,\n",
       "             10519, 10679, 10740, 10775, 10841, 10957, 11076, 11143, 11161,\n",
       "             11235, 11303, 11393, 11460, 11764, 11865, 11884, 11960],\n",
       "            dtype='int64'),\n",
       " 'VA': Int64Index([    1,    11,    18,    29,    52,    74,    78,    85,    95,\n",
       "               100,\n",
       "             ...\n",
       "             11771, 11783, 11824, 11832, 11845, 11902, 11948, 11961, 11969,\n",
       "             11970],\n",
       "            dtype='int64', length=432),\n",
       " 'VI': Int64Index([10496, 11088, 11116, 11752], dtype='int64'),\n",
       " 'VT': Int64Index([   41,    86,   106,   128,   156,   269,   325,   373,   400,\n",
       "               411,\n",
       "             ...\n",
       "              8725,  9275,  9413,  9667,  9948, 10034, 10253, 10696, 10855,\n",
       "             11308],\n",
       "            dtype='int64', length=115),\n",
       " 'WA': Int64Index([ 2979,  3052,  3450,  3623,  3720,  3832,  4119,  4303,  4613,\n",
       "              4961,  5344,  5357,  5651,  5925,  5951,  6032,  6100,  6155,\n",
       "              6210,  6403,  6590,  6761,  6822,  6990,  7020,  7039,  7198,\n",
       "              7335,  7351,  7761,  7881,  7949,  8005,  8130,  8145,  8152,\n",
       "              8219,  8247,  8439,  8450,  8473,  8488,  8637,  8722,  8776,\n",
       "              8794,  8837,  8977,  8980,  9051,  9082,  9143,  9174,  9353,\n",
       "              9569,  9665,  9739,  9828,  9874,  9876,  9883, 10072, 10170,\n",
       "             10236, 10336, 10352, 10409, 10434, 10517, 10665, 10674, 10689,\n",
       "             10757, 10762, 10784, 10882, 10947, 10949, 11022, 11041, 11081,\n",
       "             11083, 11121, 11155, 11211, 11222, 11260, 11360, 11378, 11528,\n",
       "             11628, 11674, 11760, 11836, 11921],\n",
       "            dtype='int64'),\n",
       " 'WI': Int64Index([ 2410,  2503,  2592,  2605,  2633,  2789,  2790,  2942,  2985,\n",
       "              3081,\n",
       "             ...\n",
       "             11278, 11371, 11409, 11413, 11566, 11590, 11642, 11774, 11844,\n",
       "             11930],\n",
       "            dtype='int64', length=196),\n",
       " 'WV': Int64Index([ 3615,  3690,  3751,  3785,  3786,  3849,  3854,  3881,  3930,\n",
       "              3959,\n",
       "             ...\n",
       "             10629, 10645, 10982, 11271, 11459, 11584, 11623, 11742, 11775,\n",
       "             11880],\n",
       "            dtype='int64', length=120),\n",
       " 'WY': Int64Index([ 4009,  4138,  4511,  4572,  4718,  5054,  5533,  5726,  6128,\n",
       "              6895,  7620,  7831,  7925,  7988,  8038,  8052,  8280,  8545,\n",
       "              8604,  8674,  8801,  8931,  9242,  9394,  9468,  9470,  9685,\n",
       "              9722,  9783,  9998, 10098, 10159, 10235, 10449, 10811, 10860,\n",
       "             10978, 11464, 11518, 11835],\n",
       "            dtype='int64')}"
      ]
     },
     "execution_count": 108,
     "metadata": {},
     "output_type": "execute_result"
    }
   ],
   "source": [
    "by_state.groups"
   ]
  },
  {
   "cell_type": "code",
   "execution_count": 112,
   "metadata": {},
   "outputs": [
    {
     "name": "stdout",
     "output_type": "stream",
     "text": [
      "AK\n",
      "       last_name first_name   birthday gender type state        party\n",
      "6619      Waskey      Frank 1875-04-20      M  rep    AK     Democrat\n",
      "6647        Cale     Thomas 1848-09-17      M  rep    AK  Independent\n",
      "7442     Grigsby     George 1874-12-02      M  rep    AK          NaN\n",
      "7501      Sulzer    Charles 1879-02-24      M  rep    AK          NaN\n",
      "8039  Sutherland     Daniel 1869-04-17      M  rep    AK   Republican\n"
     ]
    }
   ],
   "source": [
    "_state, _frame = next(iter(by_state))\n",
    "print(_state)\n",
    "print(_frame.head())"
   ]
  },
  {
   "cell_type": "code",
   "execution_count": 113,
   "metadata": {},
   "outputs": [
    {
     "data": {
      "text/plain": [
       "state\n",
       "AK     16\n",
       "AL    206\n",
       "AR    117\n",
       "AS      2\n",
       "AZ     48\n",
       "     ... \n",
       "VT    115\n",
       "WA     95\n",
       "WI    196\n",
       "WV    120\n",
       "WY     40\n",
       "Name: last_name, Length: 58, dtype: int64"
      ]
     },
     "execution_count": 113,
     "metadata": {},
     "output_type": "execute_result"
    }
   ],
   "source": [
    "df.groupby('state')['last_name'].count()"
   ]
  },
  {
   "cell_type": "code",
   "execution_count": 116,
   "metadata": {},
   "outputs": [
    {
     "data": {
      "text/plain": [
       "16"
      ]
     },
     "execution_count": 116,
     "metadata": {},
     "output_type": "execute_result"
    }
   ],
   "source": [
    "df.loc[df['state'] == 'AK', ['last_name']].shape[0]"
   ]
  },
  {
   "cell_type": "markdown",
   "metadata": {},
   "source": [
    "<h3> Air Quality Dataset </h3"
   ]
  },
  {
   "cell_type": "code",
   "execution_count": 126,
   "metadata": {},
   "outputs": [],
   "source": [
    "df = pd.read_csv(r'./groupby-data/airqual.csv', parse_dates=[['Date', 'Time']], na_values=[-200],\n",
    "                usecols = ['Date', 'Time', \"CO(GT)\", \"T\", \"RH\", \"AH\"]).rename(columns={\"CO(GT)\":'co', 'Date_Time':'tstamp',\"T\": \"temp_c\",'RH':'rel_hum', 'AH':'abs_hum'}).set_index('tstamp')\n"
   ]
  },
  {
   "cell_type": "code",
   "execution_count": 127,
   "metadata": {},
   "outputs": [
    {
     "data": {
      "text/html": [
       "<div>\n",
       "<style scoped>\n",
       "    .dataframe tbody tr th:only-of-type {\n",
       "        vertical-align: middle;\n",
       "    }\n",
       "\n",
       "    .dataframe tbody tr th {\n",
       "        vertical-align: top;\n",
       "    }\n",
       "\n",
       "    .dataframe thead th {\n",
       "        text-align: right;\n",
       "    }\n",
       "</style>\n",
       "<table border=\"1\" class=\"dataframe\">\n",
       "  <thead>\n",
       "    <tr style=\"text-align: right;\">\n",
       "      <th></th>\n",
       "      <th>co</th>\n",
       "      <th>temp_c</th>\n",
       "      <th>rel_hum</th>\n",
       "      <th>abs_hum</th>\n",
       "    </tr>\n",
       "    <tr>\n",
       "      <th>tstamp</th>\n",
       "      <th></th>\n",
       "      <th></th>\n",
       "      <th></th>\n",
       "      <th></th>\n",
       "    </tr>\n",
       "  </thead>\n",
       "  <tbody>\n",
       "    <tr>\n",
       "      <th>2004-03-10 18:00:00</th>\n",
       "      <td>2.6</td>\n",
       "      <td>13.6</td>\n",
       "      <td>48.9</td>\n",
       "      <td>0.758</td>\n",
       "    </tr>\n",
       "    <tr>\n",
       "      <th>2004-03-10 19:00:00</th>\n",
       "      <td>2.0</td>\n",
       "      <td>13.3</td>\n",
       "      <td>47.7</td>\n",
       "      <td>0.726</td>\n",
       "    </tr>\n",
       "    <tr>\n",
       "      <th>2004-03-10 20:00:00</th>\n",
       "      <td>2.2</td>\n",
       "      <td>11.9</td>\n",
       "      <td>54.0</td>\n",
       "      <td>0.750</td>\n",
       "    </tr>\n",
       "    <tr>\n",
       "      <th>2004-03-10 21:00:00</th>\n",
       "      <td>2.2</td>\n",
       "      <td>11.0</td>\n",
       "      <td>60.0</td>\n",
       "      <td>0.787</td>\n",
       "    </tr>\n",
       "    <tr>\n",
       "      <th>2004-03-10 22:00:00</th>\n",
       "      <td>1.6</td>\n",
       "      <td>11.2</td>\n",
       "      <td>59.6</td>\n",
       "      <td>0.789</td>\n",
       "    </tr>\n",
       "  </tbody>\n",
       "</table>\n",
       "</div>"
      ],
      "text/plain": [
       "                      co  temp_c  rel_hum  abs_hum\n",
       "tstamp                                            \n",
       "2004-03-10 18:00:00  2.6    13.6     48.9    0.758\n",
       "2004-03-10 19:00:00  2.0    13.3     47.7    0.726\n",
       "2004-03-10 20:00:00  2.2    11.9     54.0    0.750\n",
       "2004-03-10 21:00:00  2.2    11.0     60.0    0.787\n",
       "2004-03-10 22:00:00  1.6    11.2     59.6    0.789"
      ]
     },
     "execution_count": 127,
     "metadata": {},
     "output_type": "execute_result"
    }
   ],
   "source": [
    "df.head()"
   ]
  },
  {
   "cell_type": "markdown",
   "metadata": {},
   "source": [
    "<p>Here, co is that hour’s average carbon monoxide reading, while temp_c, rel_hum, and abs_hum are the average temperature in Celsius, relative humidity, and absolute humidity over that hour, respectively. The observations run from March 2004 through April 2005</p>"
   ]
  },
  {
   "cell_type": "code",
   "execution_count": 128,
   "metadata": {},
   "outputs": [
    {
     "data": {
      "text/plain": [
       "Timestamp('2004-03-10 18:00:00')"
      ]
     },
     "execution_count": 128,
     "metadata": {},
     "output_type": "execute_result"
    }
   ],
   "source": [
    "df.index.min()"
   ]
  },
  {
   "cell_type": "code",
   "execution_count": 129,
   "metadata": {},
   "outputs": [
    {
     "data": {
      "text/plain": [
       "Timestamp('2005-04-04 14:00:00')"
      ]
     },
     "execution_count": 129,
     "metadata": {},
     "output_type": "execute_result"
    }
   ],
   "source": [
    "df.index.max()"
   ]
  },
  {
   "cell_type": "markdown",
   "metadata": {},
   "source": [
    "<h4>Grouping on Derived Arrays</h4>\n",
    "<p>The first parameter to .groupby() can accept several different arguments:\n",
    "<ul>\n",
    "<li>A column or list of columns</li>\n",
    "<li>A dict or Pandas Series</li>\n",
    "<li>A NumPy array or Pandas Index, or an array-like iterable of these</li>\n",
    "\n",
    "<p>We can take advantage of the last option in order to group by the day of the week. We can use the index’s .day_name() to produce a Pandas Index of strings. </p>"
   ]
  },
  {
   "cell_type": "code",
   "execution_count": 132,
   "metadata": {},
   "outputs": [],
   "source": [
    "day_names = df.index.day_name()"
   ]
  },
  {
   "cell_type": "code",
   "execution_count": 134,
   "metadata": {},
   "outputs": [
    {
     "name": "stdout",
     "output_type": "stream",
     "text": [
      "<class 'pandas.core.indexes.base.Index'>\n",
      "Index(['Wednesday', 'Wednesday', 'Wednesday', 'Wednesday', 'Wednesday',\n",
      "       'Wednesday', 'Thursday', 'Thursday', 'Thursday', 'Thursday'],\n",
      "      dtype='object', name='tstamp')\n"
     ]
    }
   ],
   "source": [
    "print(type(day_names))\n",
    "print(day_names[0:10])"
   ]
  },
  {
   "cell_type": "markdown",
   "metadata": {},
   "source": [
    "<b>Note: For a Pandas Series, rather than an Index, you’ll need the .dt accessor to get access to methods like .day_name(). If ser is your Series, then you’d need ser.dt.day_name().</b>"
   ]
  },
  {
   "cell_type": "code",
   "execution_count": 136,
   "metadata": {},
   "outputs": [
    {
     "data": {
      "text/plain": [
       "tstamp\n",
       "Friday       2.543\n",
       "Monday       2.017\n",
       "Saturday     1.861\n",
       "Sunday       1.438\n",
       "Thursday     2.456\n",
       "Tuesday      2.382\n",
       "Wednesday    2.401\n",
       "Name: co, dtype: float64"
      ]
     },
     "execution_count": 136,
     "metadata": {},
     "output_type": "execute_result"
    }
   ],
   "source": [
    "df.groupby(day_names)['co'].mean()"
   ]
  },
  {
   "cell_type": "markdown",
   "metadata": {},
   "source": [
    "<p>The split-apply-combine process behaves largely the same as before, except that the splitting this time is done on an artificially-created column. This column doesn’t exist in the DataFrame itself, but rather is derived from it.</p>"
   ]
  },
  {
   "cell_type": "code",
   "execution_count": 139,
   "metadata": {},
   "outputs": [
    {
     "data": {
      "text/plain": [
       "pandas.core.indexes.numeric.Int64Index"
      ]
     },
     "execution_count": 139,
     "metadata": {},
     "output_type": "execute_result"
    }
   ],
   "source": [
    "hr_indx = df.index.hour\n",
    "type(hr_indx)"
   ]
  },
  {
   "cell_type": "code",
   "execution_count": 140,
   "metadata": {},
   "outputs": [
    {
     "data": {
      "text/plain": [
       "tstamp\n",
       "0     1.786\n",
       "1     1.468\n",
       "2     1.099\n",
       "3     0.888\n",
       "4     0.759\n",
       "5     0.713\n",
       "6     0.922\n",
       "7     1.811\n",
       "8     2.824\n",
       "9     2.972\n",
       "10    2.566\n",
       "11    2.261\n",
       "12    2.170\n",
       "13    2.201\n",
       "14    2.126\n",
       "15    2.049\n",
       "16    2.267\n",
       "17    2.816\n",
       "18    3.436\n",
       "19    3.733\n",
       "20    3.469\n",
       "21    2.601\n",
       "22    1.977\n",
       "23    1.878\n",
       "Name: co, dtype: float64"
      ]
     },
     "execution_count": 140,
     "metadata": {},
     "output_type": "execute_result"
    }
   ],
   "source": [
    "df.groupby(hr_indx)['co'].mean()"
   ]
  },
  {
   "cell_type": "code",
   "execution_count": 141,
   "metadata": {},
   "outputs": [
    {
     "data": {
      "text/plain": [
       "tstamp     tstamp\n",
       "Friday     0         1.936\n",
       "           1         1.609\n",
       "           2         1.172\n",
       "           3         0.887\n",
       "           4         0.823\n",
       "                     ...  \n",
       "Wednesday  19        4.147\n",
       "           20        3.845\n",
       "           21        2.898\n",
       "           22        2.102\n",
       "           23        1.938\n",
       "Name: co, Length: 168, dtype: float64"
      ]
     },
     "execution_count": 141,
     "metadata": {},
     "output_type": "execute_result"
    }
   ],
   "source": [
    "df.groupby([day_names, hr_indx])['co'].mean()"
   ]
  },
  {
   "cell_type": "code",
   "execution_count": 142,
   "metadata": {},
   "outputs": [
    {
     "data": {
      "text/plain": [
       "dow        hr\n",
       "Friday     0     1.936\n",
       "           1     1.609\n",
       "           2     1.172\n",
       "           3     0.887\n",
       "           4     0.823\n",
       "                 ...  \n",
       "Wednesday  19    4.147\n",
       "           20    3.845\n",
       "           21    2.898\n",
       "           22    2.102\n",
       "           23    1.938\n",
       "Name: co, Length: 168, dtype: float64"
      ]
     },
     "execution_count": 142,
     "metadata": {},
     "output_type": "execute_result"
    }
   ],
   "source": [
    "df.groupby([day_names, hr_indx])['co'].mean().rename_axis(['dow','hr'])"
   ]
  },
  {
   "cell_type": "markdown",
   "metadata": {},
   "source": [
    "<p>Here’s one more similar case that uses .cut() to bin the temperature values into discrete intervals</p>"
   ]
  },
  {
   "cell_type": "code",
   "execution_count": 143,
   "metadata": {},
   "outputs": [
    {
     "data": {
      "text/plain": [
       "count    8991.000\n",
       "mean       18.318\n",
       "std         8.832\n",
       "min        -1.900\n",
       "25%        11.800\n",
       "50%        17.800\n",
       "75%        24.400\n",
       "max        44.600\n",
       "Name: temp_c, dtype: float64"
      ]
     },
     "execution_count": 143,
     "metadata": {},
     "output_type": "execute_result"
    }
   ],
   "source": [
    "df['temp_c'].describe()"
   ]
  },
  {
   "cell_type": "code",
   "execution_count": 149,
   "metadata": {},
   "outputs": [
    {
     "name": "stdout",
     "output_type": "stream",
     "text": [
      "<class 'pandas.core.series.Series'>\n",
      "tstamp\n",
      "2004-03-10 18:00:00    cool\n",
      "2004-03-10 19:00:00    cool\n",
      "2004-03-10 20:00:00    cool\n",
      "2004-03-10 21:00:00    cool\n",
      "2004-03-10 22:00:00    cool\n",
      "2004-03-10 23:00:00    cool\n",
      "2004-03-11 00:00:00    cool\n",
      "2004-03-11 01:00:00    cool\n",
      "2004-03-11 02:00:00    cool\n",
      "2004-03-11 03:00:00    cool\n",
      "Name: temp_c, dtype: category\n",
      "Categories (3, object): [cool < warm < hot]\n"
     ]
    }
   ],
   "source": [
    "temp_bins = pd.cut(df['temp_c'], bins=3, labels=('cool', 'warm', 'hot'))\n",
    "print(type(temp_bins))\n",
    "print(temp_bins[0:10])"
   ]
  },
  {
   "cell_type": "code",
   "execution_count": 148,
   "metadata": {},
   "outputs": [
    {
     "data": {
      "text/html": [
       "<div>\n",
       "<style scoped>\n",
       "    .dataframe tbody tr th:only-of-type {\n",
       "        vertical-align: middle;\n",
       "    }\n",
       "\n",
       "    .dataframe tbody tr th {\n",
       "        vertical-align: top;\n",
       "    }\n",
       "\n",
       "    .dataframe thead tr th {\n",
       "        text-align: left;\n",
       "    }\n",
       "\n",
       "    .dataframe thead tr:last-of-type th {\n",
       "        text-align: right;\n",
       "    }\n",
       "</style>\n",
       "<table border=\"1\" class=\"dataframe\">\n",
       "  <thead>\n",
       "    <tr>\n",
       "      <th></th>\n",
       "      <th colspan=\"2\" halign=\"left\">rel_hum</th>\n",
       "      <th colspan=\"2\" halign=\"left\">abs_hum</th>\n",
       "    </tr>\n",
       "    <tr>\n",
       "      <th></th>\n",
       "      <th>mean</th>\n",
       "      <th>median</th>\n",
       "      <th>mean</th>\n",
       "      <th>median</th>\n",
       "    </tr>\n",
       "    <tr>\n",
       "      <th>temp_c</th>\n",
       "      <th></th>\n",
       "      <th></th>\n",
       "      <th></th>\n",
       "      <th></th>\n",
       "    </tr>\n",
       "  </thead>\n",
       "  <tbody>\n",
       "    <tr>\n",
       "      <th>cool</th>\n",
       "      <td>57.651</td>\n",
       "      <td>59.2</td>\n",
       "      <td>0.666</td>\n",
       "      <td>0.658</td>\n",
       "    </tr>\n",
       "    <tr>\n",
       "      <th>warm</th>\n",
       "      <td>49.383</td>\n",
       "      <td>49.3</td>\n",
       "      <td>1.183</td>\n",
       "      <td>1.145</td>\n",
       "    </tr>\n",
       "    <tr>\n",
       "      <th>hot</th>\n",
       "      <td>24.994</td>\n",
       "      <td>24.1</td>\n",
       "      <td>1.293</td>\n",
       "      <td>1.274</td>\n",
       "    </tr>\n",
       "  </tbody>\n",
       "</table>\n",
       "</div>"
      ],
      "text/plain": [
       "       rel_hum        abs_hum       \n",
       "          mean median    mean median\n",
       "temp_c                              \n",
       "cool    57.651   59.2   0.666  0.658\n",
       "warm    49.383   49.3   1.183  1.145\n",
       "hot     24.994   24.1   1.293  1.274"
      ]
     },
     "execution_count": 148,
     "metadata": {},
     "output_type": "execute_result"
    }
   ],
   "source": [
    "df[['rel_hum', 'abs_hum']].groupby(temp_bins).agg(['mean', 'median'])"
   ]
  },
  {
   "cell_type": "markdown",
   "metadata": {},
   "source": [
    "<p><b>To group by an observation’s year and quarter</b></p>"
   ]
  },
  {
   "cell_type": "code",
   "execution_count": 151,
   "metadata": {},
   "outputs": [
    {
     "data": {
      "text/html": [
       "<div>\n",
       "<style scoped>\n",
       "    .dataframe tbody tr th:only-of-type {\n",
       "        vertical-align: middle;\n",
       "    }\n",
       "\n",
       "    .dataframe tbody tr th {\n",
       "        vertical-align: top;\n",
       "    }\n",
       "\n",
       "    .dataframe thead th {\n",
       "        text-align: right;\n",
       "    }\n",
       "</style>\n",
       "<table border=\"1\" class=\"dataframe\">\n",
       "  <thead>\n",
       "    <tr style=\"text-align: right;\">\n",
       "      <th></th>\n",
       "      <th></th>\n",
       "      <th>max</th>\n",
       "      <th>min</th>\n",
       "    </tr>\n",
       "    <tr>\n",
       "      <th>year</th>\n",
       "      <th>quarter</th>\n",
       "      <th></th>\n",
       "      <th></th>\n",
       "    </tr>\n",
       "  </thead>\n",
       "  <tbody>\n",
       "    <tr>\n",
       "      <th rowspan=\"4\" valign=\"top\">2004</th>\n",
       "      <th>1</th>\n",
       "      <td>8.1</td>\n",
       "      <td>0.3</td>\n",
       "    </tr>\n",
       "    <tr>\n",
       "      <th>2</th>\n",
       "      <td>7.3</td>\n",
       "      <td>0.1</td>\n",
       "    </tr>\n",
       "    <tr>\n",
       "      <th>3</th>\n",
       "      <td>7.5</td>\n",
       "      <td>0.1</td>\n",
       "    </tr>\n",
       "    <tr>\n",
       "      <th>4</th>\n",
       "      <td>11.9</td>\n",
       "      <td>0.1</td>\n",
       "    </tr>\n",
       "    <tr>\n",
       "      <th rowspan=\"2\" valign=\"top\">2005</th>\n",
       "      <th>1</th>\n",
       "      <td>8.7</td>\n",
       "      <td>0.1</td>\n",
       "    </tr>\n",
       "    <tr>\n",
       "      <th>2</th>\n",
       "      <td>5.0</td>\n",
       "      <td>0.3</td>\n",
       "    </tr>\n",
       "  </tbody>\n",
       "</table>\n",
       "</div>"
      ],
      "text/plain": [
       "               max  min\n",
       "year quarter           \n",
       "2004 1         8.1  0.3\n",
       "     2         7.3  0.1\n",
       "     3         7.5  0.1\n",
       "     4        11.9  0.1\n",
       "2005 1         8.7  0.1\n",
       "     2         5.0  0.3"
      ]
     },
     "execution_count": 151,
     "metadata": {},
     "output_type": "execute_result"
    }
   ],
   "source": [
    "df.groupby([df.index.year, df.index.quarter])['co'].agg(['max', 'min']).rename_axis(['year', 'quarter'])"
   ]
  },
  {
   "cell_type": "markdown",
   "metadata": {},
   "source": [
    "<h4> Respampling </h4>\n",
    "<p>This whole operation can, alternatively, be expressed through resampling. One of the uses of resampling is as a time-based groupby. All that you need to do is pass a frequency string, such as \"Q\" for \"quarterly\", and Pandas will do the rest</p>"
   ]
  },
  {
   "cell_type": "code",
   "execution_count": 153,
   "metadata": {},
   "outputs": [
    {
     "data": {
      "text/html": [
       "<div>\n",
       "<style scoped>\n",
       "    .dataframe tbody tr th:only-of-type {\n",
       "        vertical-align: middle;\n",
       "    }\n",
       "\n",
       "    .dataframe tbody tr th {\n",
       "        vertical-align: top;\n",
       "    }\n",
       "\n",
       "    .dataframe thead th {\n",
       "        text-align: right;\n",
       "    }\n",
       "</style>\n",
       "<table border=\"1\" class=\"dataframe\">\n",
       "  <thead>\n",
       "    <tr style=\"text-align: right;\">\n",
       "      <th></th>\n",
       "      <th>max</th>\n",
       "      <th>min</th>\n",
       "    </tr>\n",
       "    <tr>\n",
       "      <th>Quarter</th>\n",
       "      <th></th>\n",
       "      <th></th>\n",
       "    </tr>\n",
       "  </thead>\n",
       "  <tbody>\n",
       "    <tr>\n",
       "      <th>2004-03-31</th>\n",
       "      <td>8.1</td>\n",
       "      <td>0.3</td>\n",
       "    </tr>\n",
       "    <tr>\n",
       "      <th>2004-06-30</th>\n",
       "      <td>7.3</td>\n",
       "      <td>0.1</td>\n",
       "    </tr>\n",
       "    <tr>\n",
       "      <th>2004-09-30</th>\n",
       "      <td>7.5</td>\n",
       "      <td>0.1</td>\n",
       "    </tr>\n",
       "    <tr>\n",
       "      <th>2004-12-31</th>\n",
       "      <td>11.9</td>\n",
       "      <td>0.1</td>\n",
       "    </tr>\n",
       "    <tr>\n",
       "      <th>2005-03-31</th>\n",
       "      <td>8.7</td>\n",
       "      <td>0.1</td>\n",
       "    </tr>\n",
       "    <tr>\n",
       "      <th>2005-06-30</th>\n",
       "      <td>5.0</td>\n",
       "      <td>0.3</td>\n",
       "    </tr>\n",
       "  </tbody>\n",
       "</table>\n",
       "</div>"
      ],
      "text/plain": [
       "             max  min\n",
       "Quarter              \n",
       "2004-03-31   8.1  0.3\n",
       "2004-06-30   7.3  0.1\n",
       "2004-09-30   7.5  0.1\n",
       "2004-12-31  11.9  0.1\n",
       "2005-03-31   8.7  0.1\n",
       "2005-06-30   5.0  0.3"
      ]
     },
     "execution_count": 153,
     "metadata": {},
     "output_type": "execute_result"
    }
   ],
   "source": [
    "df.resample('Q')['co'].agg(['max', 'min']).rename_axis('Quarter')"
   ]
  },
  {
   "cell_type": "markdown",
   "metadata": {},
   "source": [
    "<h3>News Aggregator Dataset</h3>"
   ]
  },
  {
   "cell_type": "code",
   "execution_count": 154,
   "metadata": {},
   "outputs": [],
   "source": [
    "import datetime as dt"
   ]
  },
  {
   "cell_type": "code",
   "execution_count": 155,
   "metadata": {},
   "outputs": [],
   "source": [
    "def parse_millisecond_timestamp(ts: int) -> dt.datetime:\n",
    "    '''Convert ms since unix epoch to UTC datetime instance.'''\n",
    "    \n",
    "    return dt.datetime.fromtimestamp(ts/1000, tz=dt.timezone.utc)"
   ]
  },
  {
   "cell_type": "code",
   "execution_count": 158,
   "metadata": {},
   "outputs": [],
   "source": [
    "df = pd.read_csv(r\"./groupby-data/news.csv\",sep=\"\\t\", header=None, index_col=0, \n",
    "                names=['title', 'url', 'outlet', 'category', 'cluster', 'host', 'tstamp'],\n",
    "                parse_dates=['tstamp'], \n",
    "                date_parser=parse_millisecond_timestamp,\n",
    "                dtype={'outlet':'category', 'category':'category', 'cluster':'category', 'host':'category'})"
   ]
  },
  {
   "cell_type": "code",
   "execution_count": 159,
   "metadata": {},
   "outputs": [
    {
     "data": {
      "text/html": [
       "<div>\n",
       "<style scoped>\n",
       "    .dataframe tbody tr th:only-of-type {\n",
       "        vertical-align: middle;\n",
       "    }\n",
       "\n",
       "    .dataframe tbody tr th {\n",
       "        vertical-align: top;\n",
       "    }\n",
       "\n",
       "    .dataframe thead th {\n",
       "        text-align: right;\n",
       "    }\n",
       "</style>\n",
       "<table border=\"1\" class=\"dataframe\">\n",
       "  <thead>\n",
       "    <tr style=\"text-align: right;\">\n",
       "      <th></th>\n",
       "      <th>title</th>\n",
       "      <th>url</th>\n",
       "      <th>outlet</th>\n",
       "      <th>category</th>\n",
       "      <th>cluster</th>\n",
       "      <th>host</th>\n",
       "      <th>tstamp</th>\n",
       "    </tr>\n",
       "  </thead>\n",
       "  <tbody>\n",
       "    <tr>\n",
       "      <th>1</th>\n",
       "      <td>Fed official says weak data caused by weather,...</td>\n",
       "      <td>http://www.latimes.com/business/money/la-fi-mo...</td>\n",
       "      <td>Los Angeles Times</td>\n",
       "      <td>b</td>\n",
       "      <td>ddUyU0VZz0BRneMioxUPQVP6sIxvM</td>\n",
       "      <td>www.latimes.com</td>\n",
       "      <td>2014-03-10 16:52:50.698000+00:00</td>\n",
       "    </tr>\n",
       "    <tr>\n",
       "      <th>2</th>\n",
       "      <td>Fed's Charles Plosser sees high bar for change...</td>\n",
       "      <td>http://www.livemint.com/Politics/H2EvwJSK2VE6O...</td>\n",
       "      <td>Livemint</td>\n",
       "      <td>b</td>\n",
       "      <td>ddUyU0VZz0BRneMioxUPQVP6sIxvM</td>\n",
       "      <td>www.livemint.com</td>\n",
       "      <td>2014-03-10 16:52:51.207000+00:00</td>\n",
       "    </tr>\n",
       "    <tr>\n",
       "      <th>3</th>\n",
       "      <td>US open: Stocks fall after Fed official hints ...</td>\n",
       "      <td>http://www.ifamagazine.com/news/us-open-stocks...</td>\n",
       "      <td>IFA Magazine</td>\n",
       "      <td>b</td>\n",
       "      <td>ddUyU0VZz0BRneMioxUPQVP6sIxvM</td>\n",
       "      <td>www.ifamagazine.com</td>\n",
       "      <td>2014-03-10 16:52:51.550000+00:00</td>\n",
       "    </tr>\n",
       "    <tr>\n",
       "      <th>4</th>\n",
       "      <td>Fed risks falling 'behind the curve', Charles ...</td>\n",
       "      <td>http://www.ifamagazine.com/news/fed-risks-fall...</td>\n",
       "      <td>IFA Magazine</td>\n",
       "      <td>b</td>\n",
       "      <td>ddUyU0VZz0BRneMioxUPQVP6sIxvM</td>\n",
       "      <td>www.ifamagazine.com</td>\n",
       "      <td>2014-03-10 16:52:51.793000+00:00</td>\n",
       "    </tr>\n",
       "    <tr>\n",
       "      <th>5</th>\n",
       "      <td>Fed's Plosser: Nasty Weather Has Curbed Job Gr...</td>\n",
       "      <td>http://www.moneynews.com/Economy/federal-reser...</td>\n",
       "      <td>Moneynews</td>\n",
       "      <td>b</td>\n",
       "      <td>ddUyU0VZz0BRneMioxUPQVP6sIxvM</td>\n",
       "      <td>www.moneynews.com</td>\n",
       "      <td>2014-03-10 16:52:52.027000+00:00</td>\n",
       "    </tr>\n",
       "  </tbody>\n",
       "</table>\n",
       "</div>"
      ],
      "text/plain": [
       "                                               title                                                url             outlet category                        cluster                 host                           tstamp\n",
       "1  Fed official says weak data caused by weather,...  http://www.latimes.com/business/money/la-fi-mo...  Los Angeles Times        b  ddUyU0VZz0BRneMioxUPQVP6sIxvM      www.latimes.com 2014-03-10 16:52:50.698000+00:00\n",
       "2  Fed's Charles Plosser sees high bar for change...  http://www.livemint.com/Politics/H2EvwJSK2VE6O...           Livemint        b  ddUyU0VZz0BRneMioxUPQVP6sIxvM     www.livemint.com 2014-03-10 16:52:51.207000+00:00\n",
       "3  US open: Stocks fall after Fed official hints ...  http://www.ifamagazine.com/news/us-open-stocks...       IFA Magazine        b  ddUyU0VZz0BRneMioxUPQVP6sIxvM  www.ifamagazine.com 2014-03-10 16:52:51.550000+00:00\n",
       "4  Fed risks falling 'behind the curve', Charles ...  http://www.ifamagazine.com/news/fed-risks-fall...       IFA Magazine        b  ddUyU0VZz0BRneMioxUPQVP6sIxvM  www.ifamagazine.com 2014-03-10 16:52:51.793000+00:00\n",
       "5  Fed's Plosser: Nasty Weather Has Curbed Job Gr...  http://www.moneynews.com/Economy/federal-reser...          Moneynews        b  ddUyU0VZz0BRneMioxUPQVP6sIxvM    www.moneynews.com 2014-03-10 16:52:52.027000+00:00"
      ]
     },
     "execution_count": 159,
     "metadata": {},
     "output_type": "execute_result"
    }
   ],
   "source": [
    "df.head()"
   ]
  },
  {
   "cell_type": "markdown",
   "metadata": {},
   "source": [
    "<p><b>Using Lambda Functions in .groupby()</b></p>"
   ]
  },
  {
   "cell_type": "markdown",
   "metadata": {},
   "source": [
    "<h4> which outlets talk most about the Federal Reserve  </h4>\n",
    "<p>Let’s assume for simplicity that this entails searching for case-sensitive mentions of \"Fed\". Bear in mind that this may generate some false positives with terms like “Federal Government.”</p>\n"
   ]
  },
  {
   "cell_type": "code",
   "execution_count": 160,
   "metadata": {},
   "outputs": [
    {
     "data": {
      "text/plain": [
       "outlet\n",
       "Reuters                         161\n",
       "NASDAQ                          103\n",
       "Businessweek                     93\n",
       "Investing.com                    66\n",
       "Wall Street Journal \\(blog\\)     61\n",
       "MarketWatch                      56\n",
       "Moneynews                        55\n",
       "Bloomberg                        53\n",
       "GlobalPost                       51\n",
       "Economic Times                   44\n",
       "Name: title, dtype: int64"
      ]
     },
     "execution_count": 160,
     "metadata": {},
     "output_type": "execute_result"
    }
   ],
   "source": [
    "df.groupby('outlet', sort=False)['title'].apply(lambda s: s.str.contains('Fed').sum()).nlargest(10)"
   ]
  },
  {
   "cell_type": "code",
   "execution_count": 162,
   "metadata": {},
   "outputs": [
    {
     "name": "stdout",
     "output_type": "stream",
     "text": [
      "<class 'pandas.core.series.Series'>\n",
      "1    True\n",
      "2    True\n",
      "3    True\n",
      "4    True\n",
      "5    True\n",
      "Name: title, dtype: bool\n"
     ]
    }
   ],
   "source": [
    "# Alternate approach\n",
    "is_Fed = df['title'].str.contains('Fed')\n",
    "print(type(is_Fed))\n",
    "print(is_Fed[0:5])"
   ]
  },
  {
   "cell_type": "code",
   "execution_count": 163,
   "metadata": {},
   "outputs": [
    {
     "data": {
      "text/plain": [
       "outlet\n",
       "Reuters                         161\n",
       "NASDAQ                          103\n",
       "Businessweek                     93\n",
       "Investing.com                    66\n",
       "Wall Street Journal \\(blog\\)     61\n",
       "MarketWatch                      56\n",
       "Moneynews                        55\n",
       "Bloomberg                        53\n",
       "GlobalPost                       51\n",
       "Economic Times                   44\n",
       "Name: title, dtype: uint32"
      ]
     },
     "execution_count": 163,
     "metadata": {},
     "output_type": "execute_result"
    }
   ],
   "source": [
    "is_Fed.groupby(df['outlet'], sort=False).sum().nlargest(10).astype(np.uintc)"
   ]
  },
  {
   "cell_type": "markdown",
   "metadata": {},
   "source": [
    "<p>The two Series don’t need to be columns of the same DataFrame object. They just need to be of the same shape:</p>"
   ]
  },
  {
   "cell_type": "code",
   "execution_count": 164,
   "metadata": {},
   "outputs": [
    {
     "data": {
      "text/plain": [
       "(422419,)"
      ]
     },
     "execution_count": 164,
     "metadata": {},
     "output_type": "execute_result"
    }
   ],
   "source": [
    "is_Fed.shape"
   ]
  },
  {
   "cell_type": "code",
   "execution_count": 165,
   "metadata": {},
   "outputs": [
    {
     "data": {
      "text/plain": [
       "(422419,)"
      ]
     },
     "execution_count": 165,
     "metadata": {},
     "output_type": "execute_result"
    }
   ],
   "source": [
    "df['outlet'].shape"
   ]
  },
  {
   "cell_type": "code",
   "execution_count": null,
   "metadata": {},
   "outputs": [],
   "source": []
  }
 ],
 "metadata": {
  "kernelspec": {
   "display_name": "Python3_6",
   "language": "python",
   "name": "test_env_3"
  },
  "language_info": {
   "codemirror_mode": {
    "name": "ipython",
    "version": 3
   },
   "file_extension": ".py",
   "mimetype": "text/x-python",
   "name": "python",
   "nbconvert_exporter": "python",
   "pygments_lexer": "ipython3",
   "version": "3.6.10"
  }
 },
 "nbformat": 4,
 "nbformat_minor": 4
}
